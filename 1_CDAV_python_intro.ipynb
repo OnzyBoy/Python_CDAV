{
  "nbformat": 4,
  "nbformat_minor": 0,
  "metadata": {
    "colab": {
      "provenance": [],
      "authorship_tag": "ABX9TyOQEECqr1Eew8jBQuZH7V86",
      "include_colab_link": true
    },
    "kernelspec": {
      "name": "python3",
      "display_name": "Python 3"
    },
    "language_info": {
      "name": "python"
    }
  },
  "cells": [
    {
      "cell_type": "markdown",
      "metadata": {
        "id": "view-in-github",
        "colab_type": "text"
      },
      "source": [
        "<a href=\"https://colab.research.google.com/github/OnzyBoy/Python_CDAV/blob/main/1_CDAV_python_intro.ipynb\" target=\"_parent\"><img src=\"https://colab.research.google.com/assets/colab-badge.svg\" alt=\"Open In Colab\"/></a>"
      ]
    },
    {
      "cell_type": "code",
      "execution_count": null,
      "metadata": {
        "id": "J5cKDeHr88Dd"
      },
      "outputs": [],
      "source": [
        "print(\"Hello\")"
      ]
    },
    {
      "cell_type": "code",
      "source": [
        "# User Defined Functions\n",
        "def Addition():\n",
        "  return 1+1\n",
        "\n",
        "Addition()\n"
      ],
      "metadata": {
        "id": "1KUErXAm95OQ"
      },
      "execution_count": null,
      "outputs": []
    },
    {
      "cell_type": "markdown",
      "source": [
        "# User defined functions w/ parameters and arguments"
      ],
      "metadata": {
        "id": "oyLEZzHaG9ld"
      }
    },
    {
      "cell_type": "code",
      "source": [
        "def addition(x,y): #args\n",
        "  return x + y\n",
        "\n",
        "num1 = int(input(\"Enter Firts Number: \"))\n",
        "num2 = int(input(\"Enter Second Number: \"))\n",
        "\n",
        "print(addition(num1,num2)) #params\n"
      ],
      "metadata": {
        "id": "JfabD1ZMFQAD"
      },
      "execution_count": null,
      "outputs": []
    },
    {
      "cell_type": "markdown",
      "source": [
        "Function that adds any 2 numbers and divides the result by 100"
      ],
      "metadata": {
        "id": "S4_DgVqDHEO5"
      }
    },
    {
      "cell_type": "code",
      "source": [
        "def ToDivide(x,y):\n",
        "  return (x+y)/100\n",
        "\n",
        "num1 = int(input(\"Enter First Number: \"))\n",
        "num2 = int(input(\"Enter Second Number: \"))\n",
        "\n",
        "print(ToDivide(num1,num2))"
      ],
      "metadata": {
        "id": "Ywu7sFhAF1IB"
      },
      "execution_count": null,
      "outputs": []
    },
    {
      "cell_type": "code",
      "source": [
        "def toDivide(x,y):\n",
        "  print ((x+y)/100)\n",
        "\n",
        "toDivide(100,100)"
      ],
      "metadata": {
        "id": "Nn9EGy5zHVRf"
      },
      "execution_count": null,
      "outputs": []
    },
    {
      "cell_type": "markdown",
      "source": [
        "Variables"
      ],
      "metadata": {
        "id": "51FD8lhJWJMx"
      }
    },
    {
      "cell_type": "code",
      "source": [
        "def minus(a,b):\n",
        "  return (a-b)\n",
        "\n",
        "temp_diff = minus(90,10) + 1 #variable name temp_diff\n",
        "print(temp_diff)"
      ],
      "metadata": {
        "id": "b1gQ6uOOWKdR"
      },
      "execution_count": null,
      "outputs": []
    },
    {
      "cell_type": "markdown",
      "source": [
        "Create a function called 'Grader'. Function should take 3 arguments\n",
        "*   cat_1 - 20%\n",
        "*   cat_2 - 30%\n",
        "*   exam - 100%\n",
        "\n",
        "Formula is (cat_1/100 * 20) + (cat_2/100 * 30) + (exam/100 * 50)"
      ],
      "metadata": {
        "id": "Vu5ebJB-aGaH"
      }
    },
    {
      "cell_type": "code",
      "source": [
        "def grader(cat_1,cat_2,exam):\n",
        "  total_marks = (cat_1/100 * 20) + (cat_2/100 * 30) + (exam/100 * 50)\n",
        "  return total_marks\n",
        "\n",
        "# cat_1 = int(input(\"Enter Marks for Cat 1: \")) #Converts to int and will be permanently stored in as an int\n",
        "# cat_2 = int(input(\"Enter Marks for Cat 2: \"))\n",
        "# exam = int(input(\"Enter Marks for Exam: \"))\n",
        "\n",
        "cat_1 = input(\"Enter Marks for Cat 1: \")\n",
        "cat_2 = input(\"Enter Marks for Cat 2: \")\n",
        "exam = input(\"Enter Marks for Exam: \")\n",
        "\n",
        "print(grader(int(cat_1),int(cat_2),int(exam))) #Only converts to int during function call\n",
        "type(cat_1)"
      ],
      "metadata": {
        "colab": {
          "base_uri": "https://localhost:8080/"
        },
        "id": "YRym9rhSae7e",
        "outputId": "a989991c-edcf-41c7-ce92-3141d90f0fd1"
      },
      "execution_count": null,
      "outputs": [
        {
          "output_type": "stream",
          "name": "stdout",
          "text": [
            "Enter Marks for Cat 1: 75\n",
            "Enter Marks for Cat 2: 85\n",
            "Enter Marks for Exam: 75\n",
            "78.0\n"
          ]
        },
        {
          "output_type": "execute_result",
          "data": {
            "text/plain": [
              "str"
            ]
          },
          "metadata": {},
          "execution_count": 63
        }
      ]
    },
    {
      "cell_type": "markdown",
      "source": [
        "# Data types / Typecasting\n"
      ],
      "metadata": {
        "id": "HIKg8Z38h5Ed"
      }
    },
    {
      "cell_type": "markdown",
      "source": [
        "*   str - to string\n",
        "*   int - to integer (numeric)\n",
        "*   float - to float (numeric)\n",
        "*   bool - to boolean (True/False)\n",
        "\n",
        "Integer Ops\n",
        "*   ** - power\n",
        "*   % modulus"
      ],
      "metadata": {
        "id": "KEMrjgTHTE6V"
      }
    },
    {
      "cell_type": "code",
      "source": [
        "i = 45.8 #float\n",
        "print(int(i)) #typecast to integer"
      ],
      "metadata": {
        "id": "-tYiFKRhiAgc"
      },
      "execution_count": null,
      "outputs": []
    },
    {
      "cell_type": "code",
      "source": [
        "def powers(x,y):\n",
        "  return x%y #x to the power of y\n",
        "\n",
        "print(powers(10,3))"
      ],
      "metadata": {
        "id": "uPQEhfEFfqfK"
      },
      "execution_count": null,
      "outputs": []
    },
    {
      "cell_type": "code",
      "source": [
        "temp = int(input(\"What's the temperature outside? \"))\n",
        "print(\"The temp outside is\" , temp, \"degrees\")\n",
        "type(temp)"
      ],
      "metadata": {
        "id": "Pr2ZdtGfkzKb"
      },
      "execution_count": null,
      "outputs": []
    },
    {
      "cell_type": "code",
      "source": [
        "#Simple Calculator\n",
        "def addition(x, y):\n",
        "    return x + y\n",
        "\n",
        "def subtraction(x, y):\n",
        "    return x - y\n",
        "\n",
        "def multiplication(x, y):\n",
        "    return x * y\n",
        "\n",
        "def division(x, y):\n",
        "    if y == 0:\n",
        "        return \"Cannot divide by zero!\"\n",
        "    return x / y\n",
        "\n",
        "operation = input(\"Which Calculation do you want to perform? \\n 1. Addition \\n 2. Subtraction \\n 3. Multiplication \\n 4. Division \\n\")\n",
        "\n",
        "num1 = float(input(\"Enter First Number: \"))\n",
        "num2 = float(input(\"Enter Second Number: \"))\n",
        "\n",
        "if operation == \"1\":\n",
        "    print(\"Result:\", addition(num1, num2))\n",
        "elif operation == \"2\":\n",
        "    print(\"Result:\", subtraction(num1, num2))\n",
        "elif operation == \"3\":\n",
        "    print(\"Result:\", multiplication(num1, num2))\n",
        "elif operation == \"4\":\n",
        "    print(\"Result:\", division(num1, num2))\n",
        "else:\n",
        "    print(\"Invalid Input\")\n"
      ],
      "metadata": {
        "colab": {
          "base_uri": "https://localhost:8080/"
        },
        "id": "dvmZohnFl9T7",
        "outputId": "5df3eb48-c009-4b71-fe4d-0b4c68182afb"
      },
      "execution_count": null,
      "outputs": [
        {
          "output_type": "stream",
          "name": "stdout",
          "text": [
            "Which Calculation do you want to perform? \n",
            " 1. Addition \n",
            " 2. Subtraction \n",
            " 3. Multiplication \n",
            " 4. Division \n",
            "2\n",
            "Enter First Number: 10\n",
            "Enter Second Number: 5\n",
            "Result: 5.0\n"
          ]
        }
      ]
    },
    {
      "cell_type": "markdown",
      "source": [
        "# Packages"
      ],
      "metadata": {
        "id": "Z7OJJ2MSPBRK"
      }
    },
    {
      "cell_type": "code",
      "source": [
        "#Convert to radians for trig functions\n",
        "import math as m\n",
        "\n",
        "print(m.radians(25))"
      ],
      "metadata": {
        "id": "CKj_ufB5Hn-q",
        "colab": {
          "base_uri": "https://localhost:8080/"
        },
        "outputId": "2d2abba0-bf42-4b58-b874-a9636ae9b94b"
      },
      "execution_count": null,
      "outputs": [
        {
          "output_type": "stream",
          "name": "stdout",
          "text": [
            "0.4363323129985824\n"
          ]
        }
      ]
    },
    {
      "cell_type": "code",
      "source": [
        "from math import sqrt #To import a specific function\n",
        "print(sqrt(25))"
      ],
      "metadata": {
        "colab": {
          "base_uri": "https://localhost:8080/"
        },
        "id": "JBEmBMxwQBnI",
        "outputId": "a40ab029-cbf1-4f2a-85ba-06fba8b23b81"
      },
      "execution_count": null,
      "outputs": [
        {
          "output_type": "stream",
          "name": "stdout",
          "text": [
            "5.0\n"
          ]
        }
      ]
    },
    {
      "cell_type": "code",
      "source": [
        "import pandas as pd #as - aliasing"
      ],
      "metadata": {
        "id": "GLpYCI3oRI6x"
      },
      "execution_count": null,
      "outputs": []
    },
    {
      "cell_type": "markdown",
      "source": [
        "# String Operations\n"
      ],
      "metadata": {
        "id": "sTzhxnKCSswp"
      }
    },
    {
      "cell_type": "code",
      "source": [
        "#string joining + duplication\n",
        "first = \"Mary\"\n",
        "second = \"Jane\"\n",
        "\n",
        "full_name = first + \" \" + second\n",
        "print(full_name)\n",
        "\n",
        "full_name * 2\n",
        "\n",
        "# Functions are called on a specific value\n",
        "# Methods are introduced by a .operator"
      ],
      "metadata": {
        "colab": {
          "base_uri": "https://localhost:8080/",
          "height": 53
        },
        "id": "vR5FiIn1S0kt",
        "outputId": "c33bd47b-35be-4230-ac77-1c44c57a6592"
      },
      "execution_count": null,
      "outputs": [
        {
          "output_type": "stream",
          "name": "stdout",
          "text": [
            "Mary Jane\n"
          ]
        },
        {
          "output_type": "execute_result",
          "data": {
            "text/plain": [
              "'Mary JaneMary Jane'"
            ],
            "application/vnd.google.colaboratory.intrinsic+json": {
              "type": "string"
            }
          },
          "metadata": {},
          "execution_count": 23
        }
      ]
    },
    {
      "cell_type": "code",
      "source": [
        "#String Length\n",
        "len(full_name)\n",
        "\n",
        "#Converting to capital letters\n",
        "first.upper()\n",
        "\n",
        "#Converting to small letters\n",
        "first.lower()\n",
        "\n",
        "#Making the first letter to be capital\n",
        "c = \"cat\"\n",
        "c.capitalize()\n",
        "\n",
        "#Replacing a word/letter occurrence\n",
        "text = \"Sheep\"\n",
        "text.replace(\"ee\", \"i\")\n",
        "\n",
        "#Remove spaces around in a string\n",
        "school_id = \"  1046 009\"\n",
        "new_sch_id = school_id.strip().replace(\" \",\"\")\n",
        "\n",
        "#Check if string is made up of numbers\n",
        "new_sch_id.isdigit()\n",
        "\n",
        "#Split a string w/ a delimeter\n",
        "car_brand = \"Toyota,BMW,Porsche\"\n",
        "new_car_brand = car_brand.split(\",\")\n"
      ],
      "metadata": {
        "id": "381tbmTqTTPb"
      },
      "execution_count": null,
      "outputs": []
    },
    {
      "cell_type": "markdown",
      "source": [
        "# Boolean"
      ],
      "metadata": {
        "id": "c35ZMfrHilC7"
      }
    },
    {
      "cell_type": "code",
      "source": [
        "#Comparisons '==', '>' , '<', '>=', '<=' , 'not', '!='\n",
        "is_cloudy = True\n",
        "type(is_cloudy)"
      ],
      "metadata": {
        "colab": {
          "base_uri": "https://localhost:8080/"
        },
        "id": "eJV90QSEioFK",
        "outputId": "60661418-02b3-459a-f042-2d82d1f120d9"
      },
      "execution_count": null,
      "outputs": [
        {
          "output_type": "execute_result",
          "data": {
            "text/plain": [
              "bool"
            ]
          },
          "metadata": {},
          "execution_count": 49
        }
      ]
    },
    {
      "cell_type": "code",
      "source": [
        "a=5\n",
        "b=7\n",
        "d=a==b\n",
        "\n",
        "print(a>b)\n",
        "print(a<b)\n",
        "print(a>=b)\n",
        "print(a<=b)\n",
        "print(not a!=b)"
      ],
      "metadata": {
        "colab": {
          "base_uri": "https://localhost:8080/"
        },
        "id": "lDo0sgVbi6VG",
        "outputId": "f20aaf38-c8fd-4024-a992-fcceb0ba833f"
      },
      "execution_count": null,
      "outputs": [
        {
          "output_type": "stream",
          "name": "stdout",
          "text": [
            "False\n",
            "True\n",
            "False\n",
            "True\n",
            "False\n"
          ]
        }
      ]
    },
    {
      "cell_type": "code",
      "source": [
        "is_raining = False\n",
        "at_home = True\n",
        "\n",
        "is_raining and at_home\n",
        "\n",
        "          #  AND       OR\n",
        "# T  T       T         T\n",
        "# T  F       F         T\n",
        "# F  T       F         T\n",
        "# F  F       F         F"
      ],
      "metadata": {
        "colab": {
          "base_uri": "https://localhost:8080/"
        },
        "id": "ZfP29O9MjatR",
        "outputId": "e7aa9d91-193b-464e-ac8f-9d92319c7103"
      },
      "execution_count": null,
      "outputs": [
        {
          "output_type": "execute_result",
          "data": {
            "text/plain": [
              "False"
            ]
          },
          "metadata": {},
          "execution_count": 57
        }
      ]
    },
    {
      "cell_type": "code",
      "source": [],
      "metadata": {
        "id": "VtQcaUn6lCCt"
      },
      "execution_count": null,
      "outputs": []
    }
  ]
}
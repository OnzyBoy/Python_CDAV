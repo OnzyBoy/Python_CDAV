{
  "nbformat": 4,
  "nbformat_minor": 0,
  "metadata": {
    "colab": {
      "provenance": [],
      "authorship_tag": "ABX9TyO+9g2qBjLy4T5aJ0LXIdpi",
      "include_colab_link": true
    },
    "kernelspec": {
      "name": "python3",
      "display_name": "Python 3"
    },
    "language_info": {
      "name": "python"
    }
  },
  "cells": [
    {
      "cell_type": "markdown",
      "metadata": {
        "id": "view-in-github",
        "colab_type": "text"
      },
      "source": [
        "<a href=\"https://colab.research.google.com/github/OnzyBoy/Python_CDAV/blob/main/2_CDAV_python_comparisons.ipynb\" target=\"_parent\"><img src=\"https://colab.research.google.com/assets/colab-badge.svg\" alt=\"Open In Colab\"/></a>"
      ]
    },
    {
      "cell_type": "markdown",
      "source": [
        "# IF statement comparison"
      ],
      "metadata": {
        "id": "aj76OUbAnqPP"
      }
    },
    {
      "cell_type": "markdown",
      "source": [
        "1.   if statement\n",
        "1.   if-else statement\n",
        "2.   if-elif-else statement\n",
        "\n"
      ],
      "metadata": {
        "id": "FDzs52LArBmB"
      }
    },
    {
      "cell_type": "code",
      "execution_count": null,
      "metadata": {
        "colab": {
          "base_uri": "https://localhost:8080/"
        },
        "id": "PDbrpVsynNDs",
        "outputId": "fe105c9a-0567-4926-ee00-1eacd6e876e3"
      },
      "outputs": [
        {
          "output_type": "stream",
          "name": "stdout",
          "text": [
            "Do not buy an umbrella\n"
          ]
        }
      ],
      "source": [
        "is_raining = True\n",
        "\n",
        "if is_raining ==False:\n",
        "  print(\"Buy an umbrella\")\n",
        "else:\n",
        "  print(\"Do not buy an umbrella\")\n",
        "\n",
        "# limit_weight = 20\n",
        "# truck_weight = int(input(\"What is your truck weight?: \"))\n",
        "\n",
        "# if truck_weight > limit_weight:\n",
        "#   print(\"Pay Fine\")\n",
        "# else:\n",
        "#   print(\"Pass, No fine\")"
      ]
    },
    {
      "cell_type": "code",
      "source": [
        "num_of_pass = int(input(\"How many passengers are there?: \"))\n",
        "\n",
        "if num_of_pass == 1:\n",
        "  print(\"Use uber boda\")\n",
        "elif num_of_pass > 1 and num_of_pass <= 4:\n",
        "  print(\"Use Uber X\")\n",
        "elif num_of_pass>4 and num_of_pass <= 7:\n",
        "  print(\"Use Uber XL\")\n",
        "else:\n",
        "  print(\"No Uber class available\")"
      ],
      "metadata": {
        "colab": {
          "base_uri": "https://localhost:8080/"
        },
        "id": "pYT9ONkLn39L",
        "outputId": "85aa1b69-6c85-44c1-a3ea-f4c3b4ce2e3c"
      },
      "execution_count": null,
      "outputs": [
        {
          "output_type": "stream",
          "name": "stdout",
          "text": [
            "How many passengers are there?: 6\n",
            "Use Uber XL\n"
          ]
        }
      ]
    },
    {
      "cell_type": "markdown",
      "source": [
        "Create a scientific calc\n",
        "Calculator should ask a user for the operation they want then prompt them for values (max of 2) and return the result.\n",
        "\n",
        "*   2 logarithmic operation\n",
        "*   3 trig operations\n",
        "*   all 4 basic ops\n",
        "\n",
        "Use:\n",
        "*   functions\n",
        "*   math package\n",
        "*   isnumeric()\n",
        "*   boolean expressions\n",
        "\n",
        "\n",
        "\n"
      ],
      "metadata": {
        "id": "kRJ8kzGmtRWA"
      }
    },
    {
      "cell_type": "code",
      "source": [],
      "metadata": {
        "id": "linXCq13upGx"
      },
      "execution_count": null,
      "outputs": []
    },
    {
      "cell_type": "code",
      "source": [
        "import math as m\n",
        "\n",
        "#Basic Operations\n",
        "def addition(x,y):\n",
        "    return x+y\n",
        "\n",
        "def subtraction(x,y):\n",
        "    return x-y\n",
        "\n",
        "def multiplication(x,y):\n",
        "    return x*y\n",
        "\n",
        "def division(x,y):\n",
        "    return x/y\n",
        "\n",
        "#Logarithmic Operations\n",
        "def BaseTwo(x):\n",
        "    return m.log2(x)\n",
        "\n",
        "def BaseTen(x):\n",
        "    return m.log10(x)\n",
        "\n",
        "#Trigonometric Operations\n",
        "def Tan(x):\n",
        "    return m.tan(x)\n",
        "\n",
        "def Cos(x):\n",
        "    return m.cos(x)\n",
        "\n",
        "def Sin(x):\n",
        "    return m.sin(x)\n",
        "\n",
        "# Start loop\n",
        "while True:\n",
        "    print(\"\\n*** Simple Calculator ***\")\n",
        "    operation = input(\"What operation would you like to perform?: \\n\"\n",
        "                      \" 1. Addition \\n 2. Subtraction \\n 3. Multiplication \\n 4. Division \\n\"\n",
        "                      \" 5. Logarithmic Operation \\n 6. Trigonometric Operation \\n\"\n",
        "                      \"Enter your choice: \")\n",
        "\n",
        "    if operation.isnumeric():\n",
        "        operation = int(operation)\n",
        "    else:\n",
        "        print(\"Enter a numeric value\")\n",
        "        continue\n",
        "\n",
        "    # Basic Operations\n",
        "    if operation == 1:\n",
        "        print(\"Enter 2 numbers for addition\")\n",
        "        x = input(\"Enter first number: \")\n",
        "        y = input(\"Enter second number: \")\n",
        "\n",
        "        if x.isnumeric() and y.isnumeric():\n",
        "            x= int(x)\n",
        "            y= int(y)\n",
        "            print(\"Sum of\",x, \"and\", y, \"=\", addition(x,y))\n",
        "        else:\n",
        "            print(\"Enter numeric values only\")\n",
        "\n",
        "    elif operation == 2:\n",
        "        print(\"Enter 2 numbers for subtraction\")\n",
        "        x = int(input(\"Enter first number: \"))\n",
        "        y = int(input(\"Enter second number: \"))\n",
        "\n",
        "        if x < y:\n",
        "            print(\"First number must be greater than second number\")\n",
        "        else:\n",
        "            print(\"Difference of\",x, \"and\", y, \"=\", subtraction(x,y))\n",
        "\n",
        "    elif operation == 3:\n",
        "        print(\"Enter 2 numbers for multiplication\")\n",
        "        x = int(input(\"Enter first number: \"))\n",
        "        y = int(input(\"Enter second number: \"))\n",
        "        print(\"Multiplication of\",x, \"and\", y, \"=\", multiplication(x,y))\n",
        "\n",
        "    elif operation == 4:\n",
        "        x = int(input(\"Enter first number: \"))\n",
        "        y = int(input(\"Enter second number: \"))\n",
        "        if y == 0:\n",
        "            print(\"Cannot divide by zero\")\n",
        "        else:\n",
        "            print(\"Division of\",x, \"and\", y, \"=\", division(x,y))\n",
        "\n",
        "    elif operation == 5:\n",
        "        x = input(\"Enter number to find its base two and base ten: \")\n",
        "        if x.isnumeric():\n",
        "            x = int(x)\n",
        "            print(x, \"to Base Two: \", BaseTwo(x))\n",
        "            print(x, \"to Base Ten: \", BaseTen(x))\n",
        "        else:\n",
        "            print(\"Enter a numeric value\")\n",
        "\n",
        "    elif operation == 6:\n",
        "        x = int(input(\"Enter an angle in degrees: \"))\n",
        "        x_rad = m.radians(x)\n",
        "        x_tan = round(Tan(x_rad),2)\n",
        "        x_cos = round(Cos(x_rad),2)\n",
        "        x_sin = round(Sin(x_rad),2)\n",
        "        print(f\"Tangent of {x}° : {x_tan}\")\n",
        "        print(f\"Cosine of {x}° : {x_cos}\")\n",
        "        print(f\"Sine of {x}° : {x_sin}\")\n",
        "\n",
        "    else:\n",
        "        print(\"Enter a number between 1 and 6\")\n",
        "\n",
        "    # Ask user if they want to continue\n",
        "    another = input(\"\\nDo you want to perform another operation? (yes/no): \").lower()\n",
        "\n",
        "    if another != \"yes\":\n",
        "        print(\"Goodbye!\")\n",
        "        break"
      ],
      "metadata": {
        "colab": {
          "base_uri": "https://localhost:8080/"
        },
        "id": "foWnc0HzrxuG",
        "outputId": "3b288338-428e-4a49-9f5c-bd98a0f0889d"
      },
      "execution_count": null,
      "outputs": [
        {
          "output_type": "stream",
          "name": "stdout",
          "text": [
            "\n",
            "*** Simple Calculator ***\n",
            "What operation would you like to perform?: \n",
            " 1. Addition \n",
            " 2. Subtraction \n",
            " 3. Multiplication \n",
            " 4. Division \n",
            " 5. Logarithmic Operation \n",
            " 6. Trigonometric Operation \n",
            "Enter your choice: 5\n",
            "Enter number to find its base two and base ten: 50\n",
            "50 to Base Two:  5.643856189774724\n",
            "50 to Base Ten:  1.6989700043360187\n",
            "\n",
            "Do you want to perform another operation? (yes/no): yes\n",
            "\n",
            "*** Simple Calculator ***\n",
            "What operation would you like to perform?: \n",
            " 1. Addition \n",
            " 2. Subtraction \n",
            " 3. Multiplication \n",
            " 4. Division \n",
            " 5. Logarithmic Operation \n",
            " 6. Trigonometric Operation \n",
            "Enter your choice: 6\n",
            "Enter an angle in degrees: 50\n",
            "Tangent of 50° : 1.19\n",
            "Cosine of 50° : 0.64\n",
            "Sine of 50° : 0.77\n",
            "\n",
            "Do you want to perform another operation? (yes/no): no\n",
            "Goodbye!\n"
          ]
        }
      ]
    },
    {
      "cell_type": "code",
      "source": [],
      "metadata": {
        "id": "mfvr_Icexflq"
      },
      "execution_count": null,
      "outputs": []
    }
  ]
}
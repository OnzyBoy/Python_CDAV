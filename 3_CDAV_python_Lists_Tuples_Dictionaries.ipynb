{
  "nbformat": 4,
  "nbformat_minor": 0,
  "metadata": {
    "colab": {
      "provenance": [],
      "authorship_tag": "ABX9TyOjTyRsdIcI8MnyFRFcPsca",
      "include_colab_link": true
    },
    "kernelspec": {
      "name": "python3",
      "display_name": "Python 3"
    },
    "language_info": {
      "name": "python"
    }
  },
  "cells": [
    {
      "cell_type": "markdown",
      "metadata": {
        "id": "view-in-github",
        "colab_type": "text"
      },
      "source": [
        "<a href=\"https://colab.research.google.com/github/OnzyBoy/Python_CDAV/blob/main/3_CDAV_python_Lists_Tuples_Dictionaries.ipynb\" target=\"_parent\"><img src=\"https://colab.research.google.com/assets/colab-badge.svg\" alt=\"Open In Colab\"/></a>"
      ]
    },
    {
      "cell_type": "markdown",
      "source": [
        "# Lists"
      ],
      "metadata": {
        "id": "e6pA6jW3yqxr"
      }
    },
    {
      "cell_type": "markdown",
      "source": [
        "lists can:\n",
        "*   Store multiple data types\n",
        "*   changeable\n",
        "*   Ordered\n",
        "*   Allow duplicates\n",
        "\n",
        "0-based indexing"
      ],
      "metadata": {
        "id": "1xXyNkw4yuOW"
      }
    },
    {
      "cell_type": "code",
      "execution_count": null,
      "metadata": {
        "colab": {
          "base_uri": "https://localhost:8080/"
        },
        "id": "HY0rsN9cszZj",
        "outputId": "c3467b7b-f341-4b2b-8665-eafea0b87167"
      },
      "outputs": [
        {
          "output_type": "execute_result",
          "data": {
            "text/plain": [
              "6"
            ]
          },
          "metadata": {},
          "execution_count": 3
        }
      ],
      "source": [
        "#List declaration\n",
        "names=\"John|Mary|Edward|Jake|Martha|Earl\"\n",
        "sdt_names=names.split(\"|\")\n",
        "sdt_names_marks=[\"John\",53,\"Mary\",67,\"Edward\",77, True]\n",
        "\n",
        "type(sdt_names)\n",
        "len(sdt_names)"
      ]
    },
    {
      "cell_type": "code",
      "source": [
        "#Accessing Lists\n",
        "sdt_names[1] #Prints Mary\n",
        "sdt_names[len(sdt_names)-1] #Prints last item (name) - Edward\n",
        "sdt_names[-1] #Prints last item (name) - Edward\n",
        "\n",
        "#To know the index of an item (First Occurrence)\n",
        "sdt_names.index(\"Mary\")\n",
        "\n",
        "#Accessing a range of values - list slicing\n",
        "sdt_names[2:] #from index 2 till the end of the list\n",
        "sdt_names[1:3] #from index 1 to till index 2\n",
        "sdt_names[:3] #from index 0 to till index 2\n",
        "sdt_names[-4:-1] #from index 2 till index 4\n",
        "\n",
        "#Adding an iteration(Skipping value)\n",
        "sdt_names[::2] #Gets everything from the list and skips every 2nd value\n",
        "\n",
        "#sdt_names[::-2] #Gets everything from the list and skips every 2nd value and reverses\n"
      ],
      "metadata": {
        "colab": {
          "base_uri": "https://localhost:8080/"
        },
        "id": "guYUKAslxnEJ",
        "outputId": "1d6ced0e-e9c8-4665-edb3-362f4970547d"
      },
      "execution_count": null,
      "outputs": [
        {
          "output_type": "execute_result",
          "data": {
            "text/plain": [
              "['John', 'Edward', 'Martha']"
            ]
          },
          "metadata": {},
          "execution_count": 4
        }
      ]
    },
    {
      "cell_type": "code",
      "source": [
        "#Adding items to a list\n",
        "# sdt_names.append(\"Juliet\")\n",
        "\n",
        "#Updating items in a list\n",
        "# sdt_names[7]=\"Matthew\"\n",
        "# sdt_names.reverse() #Reverses the list\n",
        "\n",
        "#Removing the last item in the list\n",
        "# sdt_names.pop() #Removes the last item\n",
        "\n",
        "#Remove an item with an index\n",
        "#sdt_names.pop(2) #Removes the 3rd item\n",
        "\n",
        "#Removing a specific item in the list\n",
        "# sdt_names.remove(\"Edward\")\n",
        "print(sdt_names)"
      ],
      "metadata": {
        "colab": {
          "base_uri": "https://localhost:8080/"
        },
        "id": "cLe7IAiYzr1n",
        "outputId": "d4d8b7b1-32f6-44f7-e55c-61facc0b07ca"
      },
      "execution_count": null,
      "outputs": [
        {
          "output_type": "stream",
          "name": "stdout",
          "text": [
            "['Matthew', 'Juliet', 'Earl', 'Martha', 'Jake', 'Edward', 'Mary', 'John']\n"
          ]
        }
      ]
    },
    {
      "cell_type": "code",
      "source": [
        "#Multiple Lists\n",
        "jpn_brand = [\"Toyota\", \"Nissan\",\"Mazda\"]\n",
        "ger_brand = [\"Audi\",\"Merc\",\"Porsche\"]\n",
        "\n",
        "#Combining multiple lists and assigning to a new variable for that new list\n",
        "# cars = jpn_brand + ger_brand\n",
        "# print(cars)\n",
        "#or\n",
        "jpn_brand.extend(ger_brand)\n",
        "# print(jpn_brand)\n",
        "\n",
        "#To arrange list\n",
        "jpn_brand.sort() #Arranges in ascending order\n",
        "print(jpn_brand)"
      ],
      "metadata": {
        "colab": {
          "base_uri": "https://localhost:8080/"
        },
        "id": "lV_8QuBm5jJW",
        "outputId": "7258a238-7af6-4dc2-c7b4-43c0f4cecbb3"
      },
      "execution_count": null,
      "outputs": [
        {
          "output_type": "stream",
          "name": "stdout",
          "text": [
            "['Audi', 'Mazda', 'Merc', 'Nissan', 'Porsche', 'Toyota']\n"
          ]
        }
      ]
    },
    {
      "cell_type": "code",
      "source": [
        "#List Methods\n",
        "marks = [10,20,50,70,50]\n",
        "print(\"Total: \", sum(marks)) #Adds everything in a list, must be numerical\n",
        "\n",
        "print(\"Maximum: \",max(marks)) #Prints the highest value in the list\n",
        "print(\"Minimum: \", min(marks)) #prints the least value in the list\n",
        "\n",
        "print(\"Average: \",sum(marks)/len(marks)) #Prints the average value in the list\n",
        "\n",
        "set(marks) #Returns a data structure which is unique and sorts"
      ],
      "metadata": {
        "colab": {
          "base_uri": "https://localhost:8080/"
        },
        "id": "2LoYerQK7-AP",
        "outputId": "33189a54-d5f6-42fe-9667-c6fba51bccbd"
      },
      "execution_count": null,
      "outputs": [
        {
          "output_type": "stream",
          "name": "stdout",
          "text": [
            "Total:  200\n",
            "Maximum:  70\n",
            "Minimum:  10\n",
            "Average:  40.0\n"
          ]
        },
        {
          "output_type": "execute_result",
          "data": {
            "text/plain": [
              "{10, 20, 50, 70}"
            ]
          },
          "metadata": {},
          "execution_count": 56
        }
      ]
    },
    {
      "cell_type": "code",
      "source": [
        "#Accessing a list individually\n",
        "for mark in jpn_brand:\n",
        "  print(mark.upper())"
      ],
      "metadata": {
        "colab": {
          "base_uri": "https://localhost:8080/"
        },
        "id": "gk8paZKV-OG6",
        "outputId": "9194470c-f6ba-4db1-9622-704d4e43c3a4"
      },
      "execution_count": null,
      "outputs": [
        {
          "output_type": "stream",
          "name": "stdout",
          "text": [
            "AUDI\n",
            "MAZDA\n",
            "MERC\n",
            "NISSAN\n",
            "PORSCHE\n",
            "TOYOTA\n"
          ]
        }
      ]
    },
    {
      "cell_type": "markdown",
      "source": [
        "# Assignment"
      ],
      "metadata": {
        "id": "fdYzzMdVn30j"
      }
    },
    {
      "cell_type": "code",
      "source": [
        "#Name, Product_Name, quantity(int), price(int), status\n",
        "\n",
        "# cleaning data | # total amount spent | # Average amount spend | # Name of customer with highest amount spent\n",
        "# lowest amount spent | # most sold item | # number of undelivered items\n",
        "\n",
        "orders = [\n",
        "    [\"Alice\", \"Laptop\", 1, 750, \"delivered\"], #/----------------------------------------------0\n",
        "    [\"Bob\", \"Phone\", 2, 400, \"pending\"], #/---------------------------------------------------1\n",
        "    [\"Charlie\", \"Headphones\", 1, 150, \"deli vered\"], #/---------------------------------------2\n",
        "    [\"David\", \"Phone\", \"two\", 400, \"delivered\"],  # wrong quantity format #/------------------3\n",
        "    [\"Eve\", \"Monitor\", 1, \"two hundred\", \"delivered \"],  # price is a string #/---------------4\n",
        "    [\"Frank\", \"Keyboard\", 1, 50, \"p3nding\"],#/------------------------------------------------5\n",
        "    [\"Grace\", \"Mouse\", 1, 30, \"delivered\"],#/-------------------------------------------------6\n",
        "    [\"Heidi\", \"Laptop\", 2, 750, \"cancelled\"],#/-----------------------------------------------7\n",
        "    [\"Ivan\", \"Phone\", 1, 400, \"Delivered\"],  #/ case inconsistency----------------------------8\n",
        "    [\"Judy\", \"\", 1, 150, \"delivered\"],  #/ missing item infer by price of item----------------9\n",
        "]\n"
      ],
      "metadata": {
        "id": "aKlK5HzC_doL"
      },
      "execution_count": null,
      "outputs": []
    },
    {
      "cell_type": "code",
      "source": [
        "#Cleaning for consistent format\n",
        "orders[2][4] = \"delivered\"\n",
        "orders[3][2] = 2\n",
        "orders[4][4] = \"delivered\"\n",
        "orders[4][3] = 200\n",
        "orders[5][4] = \"pending\"\n",
        "orders[8][4]=\"delivered\"\n",
        "orders[9][1]=\"Headphones\"\n"
      ],
      "metadata": {
        "id": "b-ikFzGvXcmk"
      },
      "execution_count": null,
      "outputs": []
    },
    {
      "cell_type": "code",
      "source": [
        "# total amount spent\n",
        "total_spent = 0\n",
        "for order in orders:\n",
        "  qty = int(order[2])\n",
        "  price = int(order[3])\n",
        "  amount_spent = qty * price\n",
        "  total_spent += amount_spent\n",
        "print(\"Total amount spent: \", total_spent)\n",
        "\n",
        "# Average amount spent\n",
        "average_spent = total_spent / len(orders)\n",
        "print(\"Average amount spent: \", average_spent)\n",
        "\n",
        "#Name of customer with highest amount spent\n",
        "highest_spent = 0\n",
        "customer_name = \"\"\n",
        "for order in orders:\n",
        "  qty = int(order[2])\n",
        "  price = int(order[3])\n",
        "  amount_spent = qty * price\n",
        "\n",
        "  if amount_spent > highest_spent:\n",
        "        highest_spent = amount_spent\n",
        "        customer_name = order[0] #To access Customer name\n",
        "\n",
        "print(\"Customer Name with highest amount spent:\", customer_name)\n",
        "\n",
        "# lowest amount spent\n",
        "first_qty = int(orders[0][2])\n",
        "first_price = int(orders[0][3])\n",
        "lowest_spent = first_qty * first_price\n",
        "for order in orders:\n",
        "  qty = int(order[2])\n",
        "  price = int(order[3])\n",
        "  amount_spent = qty * price\n",
        "\n",
        "  if amount_spent < lowest_spent:\n",
        "    lowest_spent = amount_spent\n",
        "    customer_name = order[0]\n",
        "\n",
        "print(\"Lowest amount spent: \", lowest_spent)\n",
        "print(\"Customer name with the lowest amount spent: \", customer_name)\n",
        "\n",
        "# most sold item\n",
        "most_sold_item = \"\"\n",
        "most_sold_qty = 0\n",
        "for order in orders:\n",
        "  qty = int(order[2])\n",
        "  if qty > most_sold_qty:\n",
        "    most_sold_qty = qty\n",
        "    most_sold_item = order[1] #To access Item name\n",
        "\n",
        "print(\"Most sold item: \", most_sold_item)\n",
        "\n",
        "#Number of undelivered items\n",
        "count = 0\n",
        "for order in orders:\n",
        "  qty = int(order[2])\n",
        "  if order[4] != \"delivered\":\n",
        "     count += qty\n",
        "print(\"Number of undelivered items:\", count)\n"
      ],
      "metadata": {
        "colab": {
          "base_uri": "https://localhost:8080/"
        },
        "id": "QwI5FipPXhME",
        "outputId": "6a0aec96-b6a5-48b8-d0fe-a29aa70b4c81"
      },
      "execution_count": null,
      "outputs": [
        {
          "output_type": "stream",
          "name": "stdout",
          "text": [
            "Total amount spent:  4830\n",
            "Average amount spent:  483.0\n",
            "Customer Name with highest amount spent: Heidi\n",
            "Lowest amount spent:  30\n",
            "Customer name with the lowest amount spent:  Grace\n",
            "Most sold item:  Phone\n",
            "Number of undelivered items:  5\n"
          ]
        }
      ]
    },
    {
      "cell_type": "code",
      "source": [],
      "metadata": {
        "id": "Ii8haFhPtDbK"
      },
      "execution_count": null,
      "outputs": []
    },
    {
      "cell_type": "markdown",
      "source": [
        "# Tuples\n"
      ],
      "metadata": {
        "id": "zksvJgfhCj4p"
      }
    },
    {
      "cell_type": "markdown",
      "source": [
        "Tuples are:\n",
        "\n",
        "*   unchangeable\n",
        "*   Can't change the contents\n",
        "\n"
      ],
      "metadata": {
        "id": "Nqsrgg2tCywC"
      }
    },
    {
      "cell_type": "code",
      "source": [
        "names = (\"John\", \"Mary\", \"Edward\", \"Jake\", \"Martha\", \"Earl\")\n",
        "student_1, student_2, student_3, student_4, student_5, student_6 = names\n",
        "\n",
        "print(student_1)"
      ],
      "metadata": {
        "colab": {
          "base_uri": "https://localhost:8080/"
        },
        "id": "PtzBIeqzDj4R",
        "outputId": "297efc79-1d6b-49f6-d7da-0d693e7a3b70"
      },
      "execution_count": null,
      "outputs": [
        {
          "output_type": "stream",
          "name": "stdout",
          "text": [
            "John\n"
          ]
        }
      ]
    },
    {
      "cell_type": "code",
      "source": [
        "def add_sub(a,b):\n",
        "  sub = a + b\n",
        "  diff = a-b\n",
        "  return sub, diff\n",
        "\n",
        "addition, subtraction = add_sub(10,5)\n",
        "print(addition)\n",
        "print(subtraction)"
      ],
      "metadata": {
        "colab": {
          "base_uri": "https://localhost:8080/"
        },
        "id": "dNQE_u7CD0jT",
        "outputId": "0bfb0af0-9622-4cd9-fb15-8188e288de0c"
      },
      "execution_count": null,
      "outputs": [
        {
          "output_type": "stream",
          "name": "stdout",
          "text": [
            "15\n",
            "5\n"
          ]
        }
      ]
    },
    {
      "cell_type": "code",
      "source": [
        "#Casting to a  list\n",
        "list_of_names = list(names)\n",
        "\n",
        "# casting to a tuple\n",
        "tuple_of_names = tuple(list_of_names)\n",
        "\n",
        "#Accessing in a tuple\n",
        "tuple_of_names[0]"
      ],
      "metadata": {
        "colab": {
          "base_uri": "https://localhost:8080/",
          "height": 36
        },
        "id": "74fAWo1REIFl",
        "outputId": "ec91b9e2-d6d9-4fee-bc85-9074e8925c13"
      },
      "execution_count": null,
      "outputs": [
        {
          "output_type": "execute_result",
          "data": {
            "text/plain": [
              "'John'"
            ],
            "application/vnd.google.colaboratory.intrinsic+json": {
              "type": "string"
            }
          },
          "metadata": {},
          "execution_count": 13
        }
      ]
    },
    {
      "cell_type": "code",
      "source": [],
      "metadata": {
        "id": "To45k9U5E5Ew"
      },
      "execution_count": null,
      "outputs": []
    },
    {
      "cell_type": "markdown",
      "source": [
        "# Sets"
      ],
      "metadata": {
        "id": "tGzzSWNPGIO6"
      }
    },
    {
      "cell_type": "markdown",
      "source": [
        "Sets are:\n",
        "\n",
        "*   unordered, , and .\n",
        "*   unchangeable* -  you can remove items and add new items.\n",
        "*   unindexed\n",
        "\n",
        "\n",
        "\n"
      ],
      "metadata": {
        "id": "yblnZQRRHZNa"
      }
    },
    {
      "cell_type": "markdown",
      "source": [
        "# Dictionaries\n",
        "\n",
        "\n"
      ],
      "metadata": {
        "id": "QrfA5EieIE8f"
      }
    },
    {
      "cell_type": "markdown",
      "source": [
        "Dictionaries are:\n",
        "\n",
        "\n",
        "*   ordered*\n",
        "*   changeable\n",
        "*   do not allow duplicates\n",
        "\n",
        "Key - Value Pairs - Keys can be of any data type\n",
        "\n",
        "\n",
        "\n",
        "\n"
      ],
      "metadata": {
        "id": "EOKvQnsNIQFt"
      }
    },
    {
      "cell_type": "code",
      "source": [
        "student_marks = {\n",
        "    \"John\": 30,\n",
        "    \"Mary\": 18,\n",
        "    \"Peter\": 40,\n",
        "    \"has_passed\" : True\n",
        "    }\n",
        "\n",
        "print(student_marks)"
      ],
      "metadata": {
        "colab": {
          "base_uri": "https://localhost:8080/"
        },
        "id": "XLm6BkGoIhQn",
        "outputId": "587c214e-f55f-48d4-d98f-2b1e02172a4d"
      },
      "execution_count": null,
      "outputs": [
        {
          "output_type": "stream",
          "name": "stdout",
          "text": [
            "{'John': 30, 'Mary': 18, 'Peter': 40, 'has_passed': True}\n"
          ]
        }
      ]
    },
    {
      "cell_type": "code",
      "source": [
        "#Accessing items in a dict\n",
        "student_marks[\"John\"] = 50\n",
        "\n",
        "#Adding an item\n",
        "student_marks[\"Edward\"] =45\n",
        "print(student_marks)"
      ],
      "metadata": {
        "colab": {
          "base_uri": "https://localhost:8080/"
        },
        "id": "wSLJtIl8ItvS",
        "outputId": "050b2040-572d-49c0-890c-e1894330640b"
      },
      "execution_count": null,
      "outputs": [
        {
          "output_type": "stream",
          "name": "stdout",
          "text": [
            "{'John': 50, 'Mary': 18, 'Peter': 40, 'has_passed': True, 'Edward': 45}\n"
          ]
        }
      ]
    },
    {
      "cell_type": "code",
      "source": [
        "#Dict methods\n",
        "# student_marks.pop(\"has_passed\")\n",
        "# print(student_marks)\n",
        "\n",
        "student_marks.keys()\n",
        "student_marks.values()\n",
        "student_marks.items()"
      ],
      "metadata": {
        "colab": {
          "base_uri": "https://localhost:8080/"
        },
        "id": "J4AiY4DJJUqw",
        "outputId": "29a3d862-60f5-4266-fe65-d99e39957db2"
      },
      "execution_count": null,
      "outputs": [
        {
          "output_type": "execute_result",
          "data": {
            "text/plain": [
              "dict_items([('John', 50), ('Mary', 18), ('Peter', 40), ('Edward', 45)])"
            ]
          },
          "metadata": {},
          "execution_count": 28
        }
      ]
    },
    {
      "cell_type": "code",
      "source": [
        "for student in student_marks.keys():\n",
        "  print(student)"
      ],
      "metadata": {
        "colab": {
          "base_uri": "https://localhost:8080/"
        },
        "id": "E1SqnmmTKkkY",
        "outputId": "c5ddde68-ff0a-4fa4-9488-6d32a3d8af2b"
      },
      "execution_count": null,
      "outputs": [
        {
          "output_type": "stream",
          "name": "stdout",
          "text": [
            "John\n",
            "Mary\n",
            "Peter\n",
            "Edward\n"
          ]
        }
      ]
    },
    {
      "cell_type": "code",
      "source": [
        "for student, marks in student_marks.items():\n",
        "  print(student,\"scored\", marks)"
      ],
      "metadata": {
        "colab": {
          "base_uri": "https://localhost:8080/"
        },
        "id": "xwoXh3rqMcmD",
        "outputId": "1289c476-2a77-45bb-e3c2-7c29f714216f"
      },
      "execution_count": null,
      "outputs": [
        {
          "output_type": "stream",
          "name": "stdout",
          "text": [
            "John scored 50\n",
            "Mary scored 18\n",
            "Peter scored 40\n",
            "Edward scored 45\n"
          ]
        }
      ]
    },
    {
      "cell_type": "code",
      "source": [
        "# print out the customer who spent the most\n",
        "# e.g Peter bought a bulb for 50 KES on 21/02/2015\n",
        "customer_data = {\n",
        "    \"Jane\":[\"Lamp\",500,\"20/02/2015\"],\n",
        "    \"Peter\":[\"bulb\",50,\"21/02/2015\"],\n",
        "    \"Alfred\":[\"Socket\",250,\"20/02/2015\"],\n",
        "    \"Eden\":[\"Lamp\",500,\"22/02/2015\"],\n",
        "}\n",
        "\n",
        "# max_spent =  max(item[1] for item in customer_data.values()) #List comprhension\n",
        "max_spent = 0\n",
        "for c in customer_data.values():\n",
        "  if c[1] > max_spent:\n",
        "    max_spent = c[1]\n",
        "    #print(max_spent)\n",
        "\n",
        "for customer, item in customer_data.items():\n",
        "    if item[1] == max_spent:\n",
        "      print(customer, \"bought a\", item[0], \"for\", item[1], \"KES on\", item[2])\n",
        "\n",
        "\n"
      ],
      "metadata": {
        "colab": {
          "base_uri": "https://localhost:8080/"
        },
        "id": "PCVtbBsIMxxC",
        "outputId": "faee6532-d77f-41e1-a662-e698a53c5ce7"
      },
      "execution_count": null,
      "outputs": [
        {
          "output_type": "stream",
          "name": "stdout",
          "text": [
            "Jane bought a Lamp for 500 KES on 20/02/2015\n",
            "Lamp\n",
            "bulb\n",
            "Socket\n",
            "Eden bought a Lamp for 500 KES on 22/02/2015\n",
            "Lamp\n"
          ]
        }
      ]
    },
    {
      "cell_type": "code",
      "source": [
        "price_list = [item [1] for item in customer_data.values()]\n",
        "print(price_list)"
      ],
      "metadata": {
        "colab": {
          "base_uri": "https://localhost:8080/"
        },
        "id": "_cqJ4DFKPkve",
        "outputId": "fef9b8db-abeb-45d3-8566-af87ff397c0f"
      },
      "execution_count": null,
      "outputs": [
        {
          "output_type": "stream",
          "name": "stdout",
          "text": [
            "[500, 50, 250, 500]\n"
          ]
        }
      ]
    },
    {
      "cell_type": "markdown",
      "source": [
        "Assignment"
      ],
      "metadata": {
        "id": "L3VW5tgfRFSi"
      }
    },
    {
      "cell_type": "code",
      "source": [
        "students_data = {\n",
        "    \"S001\": {\"name\": \"Alice\", \"age\": 20, \"score\": 88, \"passed\": True},\n",
        "    \"S002\": {\"name\": \"Bob\", \"age\": 22, \"score\": 76, \"passed\": True},\n",
        "    \"S003\": {\"name\": \"Charlie\", \"age\": 21, \"score\": 45, \"passed\": False},\n",
        "    \"S004\": {\"name\": \"David\", \"age\": 23, \"score\": 92, \"passed\": True},\n",
        "    \"S005\": {\"name\": \"Eva\", \"age\": 20, \"score\": 34, \"passed\": False}\n",
        "}\n",
        "\n",
        "students_data.items()"
      ],
      "metadata": {
        "colab": {
          "base_uri": "https://localhost:8080/"
        },
        "id": "wt6fNoD7RIC0",
        "outputId": "6716ef1a-6609-443f-a3fd-b25299099f11"
      },
      "execution_count": null,
      "outputs": [
        {
          "output_type": "execute_result",
          "data": {
            "text/plain": [
              "dict_items([('S001', {'name': 'Alice', 'age': 20, 'score': 88, 'passed': True}), ('S002', {'name': 'Bob', 'age': 22, 'score': 76, 'passed': True}), ('S003', {'name': 'Charlie', 'age': 21, 'score': 45, 'passed': False}), ('S004', {'name': 'David', 'age': 23, 'score': 92, 'passed': True}), ('S005', {'name': 'Eva', 'age': 20, 'score': 34, 'passed': False})])"
            ]
          },
          "metadata": {},
          "execution_count": 1
        }
      ]
    },
    {
      "cell_type": "code",
      "source": [
        "# Add a new student with ID \"S006\" name \"Frank\", age 22, score 80, passed True\n",
        "students_data[\"S006\"] = {\"name\": \"Frank\", \"age\": 22, \"score\": 80, \"passed\": True}\n",
        "\n",
        "#Create a list called \"top_performers\" that contains students who scored above 75.\n",
        "top_performers = []\n",
        "for student_code, student_info in students_data.items():\n",
        "  if student_info[\"score\"] > 75:\n",
        "    top_performers.append(student_info[\"name\"])\n",
        "#print(\"Top performers:\",top_performers)\n",
        "\n",
        "#create a function that when given a student's name returns the data on the student, if the student is not present it should return \"student not found\"\n",
        "def retrieve_student_data(nme):\n",
        "  for student_code, student_info in students_data.items():\n",
        "    if student_info[\"name\"] == nme:\n",
        "      return student_info\n",
        "  return \"Student not found\"\n",
        "\n",
        "#ask_name = input(\"Enter student name to search: \")\n",
        "#print(retrieve_student_data(ask_name))\n",
        "\n",
        "#Create a dictionary containing summary values based on the data above as follows:\n",
        "# summary = {\n",
        "#     \"total_students\": ...,\n",
        "#     \"students_passed\": ...,\n",
        "#     \"highest_score\": ...,\n",
        "#     \"lowest_score\": ...\n",
        "# }\n",
        "\n",
        "summary = {}\n",
        "summary[\"total_students\"] = len(students_data)\n",
        "sdt_pass = 0\n",
        "for student_code, student_info in students_data.items():\n",
        "  if student_info[\"passed\"]:\n",
        "    sdt_pass += 1\n",
        "\n",
        "summary[\"students_passed\"] = sdt_pass\n",
        "summary[\"highest_score\"] = max(student_info[\"score\"] for student_code, student_info in students_data.items())\n",
        "summary[\"lowest_score\"] = min(student_info[\"score\"] for student_code, student_info in students_data.items())\n",
        "\n",
        "print(summary)\n",
        "\n"
      ],
      "metadata": {
        "colab": {
          "base_uri": "https://localhost:8080/"
        },
        "id": "t53cq-gNRWZ2",
        "outputId": "01eaa5f9-955a-4c42-b64f-5f58868820b1"
      },
      "execution_count": null,
      "outputs": [
        {
          "output_type": "stream",
          "name": "stdout",
          "text": [
            "{'total_students': 6, 'students_passed': 4, 'highest_score': 92, 'lowest_score': 34}\n"
          ]
        }
      ]
    },
    {
      "cell_type": "code",
      "source": [
        "\n"
      ],
      "metadata": {
        "id": "Ej6vOFmrU2sF"
      },
      "execution_count": null,
      "outputs": []
    },
    {
      "cell_type": "code",
      "source": [],
      "metadata": {
        "id": "e-wZu99cR1OP"
      },
      "execution_count": null,
      "outputs": []
    },
    {
      "cell_type": "code",
      "source": [],
      "metadata": {
        "id": "N8s4ex8rU1eQ"
      },
      "execution_count": null,
      "outputs": []
    }
  ]
}
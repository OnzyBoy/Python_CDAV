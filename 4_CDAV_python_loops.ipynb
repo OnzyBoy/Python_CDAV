{
  "nbformat": 4,
  "nbformat_minor": 0,
  "metadata": {
    "colab": {
      "provenance": [],
      "authorship_tag": "ABX9TyPxTzaL5i/RtCfLocazV7Fe",
      "include_colab_link": true
    },
    "kernelspec": {
      "name": "python3",
      "display_name": "Python 3"
    },
    "language_info": {
      "name": "python"
    }
  },
  "cells": [
    {
      "cell_type": "markdown",
      "metadata": {
        "id": "view-in-github",
        "colab_type": "text"
      },
      "source": [
        "<a href=\"https://colab.research.google.com/github/OnzyBoy/Python_CDAV/blob/main/4_CDAV_python_loops.ipynb\" target=\"_parent\"><img src=\"https://colab.research.google.com/assets/colab-badge.svg\" alt=\"Open In Colab\"/></a>"
      ]
    },
    {
      "cell_type": "code",
      "execution_count": null,
      "metadata": {
        "id": "_cEy6snlQ0Ph"
      },
      "outputs": [],
      "source": [
        "# ** ABC Bank Ledger **\n",
        "#Name | Password List\n",
        "bank_accounts = [\"John\",\"Password!.\",\"James\",\"12ry2yu2\",\"Mercy\",\"46382\",\"Harriet\",\"gdsghd\",\"Edward\",\"tryeu\",\"Ann\",\"wsxft\"]\n",
        "\n",
        "# Name (Key): Value Date(Key): transaction_type, deposit(Values)\n",
        "bank_ledger = {\n",
        "    \"John\":\n",
        "     {\n",
        "         \"1\":[\"deposit\",15000,\"20/02/2025\"],\n",
        "         \"2\":[\"deposit\",5000,\"22/02/2025\"],\n",
        "         \"3\":[\"withdrawal\",2500,\"23/02/2025\"],\n",
        "         \"4\":[\"deposit\",250,\"23/02/2025\"],\n",
        "      },\n",
        "    \"Harriet\":\n",
        "     {\n",
        "        \"1\":[\"deposit\",5800,\"19/02/2025\"],\n",
        "        \"2\":[\"withdrawal\",3000,\"20/02/2025\"],\n",
        "        \"3\":[\"withdrawal\",2000,\"21/02/2025\"],\n",
        "        \"4\":[\"deposit\",7000,\"22/02/2025\"]\n",
        "     },\n",
        "    \"James\":\n",
        "     {\n",
        "         \"1\":[\"deposit\",10000,\"19/02/2025\"],\n",
        "         \"2\":[\"withdrawal\",2650,\"19/02/2025\"],\n",
        "         \"3\":[\"withdrawal\",1800,\"21/02/2025\"],\n",
        "         \"4\":[\"withdrawal\",3600,\"22/02/2025\"]\n",
        "     },\n",
        "    \"Ann\":\n",
        "     {\n",
        "         \"1\":[\"deposit\",3000,\"19/02/2025\"],\n",
        "         \"2\":[\"deposit\",3500,\"19/02/2025\"],\n",
        "         \"3\":[\"deposit\",2200,\"21/02/2025\"],\n",
        "         \"4\":[\"withdrawal\",8700,\"22/02/2025\"]\n",
        "     },\n",
        "\n",
        "    \"Mercy\":\n",
        "    {\n",
        "\n",
        "    },\n",
        "\n",
        "    \"Edward\":\n",
        "    {\n",
        "\n",
        "    }\n",
        "}\n",
        "# Cleaning step\n",
        "for usr in bank_ledger:\n",
        "    user_transactions = bank_ledger[usr]  # Get the user's transactions\n",
        "    #print(usr)\n",
        "    #print(\"user_transactions\",user_transactions)\n",
        "\n",
        "    for transaction_num in user_transactions:\n",
        "        transaction = user_transactions[transaction_num]  # Each transaction is a list: [type, amount]\n",
        "        transaction_type = transaction[0]  # Get the transaction type\n",
        "        amount = transaction[1]\n",
        "        date = transaction[2]\n",
        "        #print(transaction_num)\n",
        "        #print(date)\n",
        "\n",
        "        # Remove spaces and convert to lowercase for consistency\n",
        "        cleaned_type = transaction_type.strip().lower()\n",
        "\n",
        "        if cleaned_type == \"withdrawal\" or cleaned_type == \"withdraw\":\n",
        "          user_transactions[transaction_num][0] = \"withdraw\"\n",
        "        elif cleaned_type == \"deposit\":\n",
        "          user_transactions[transaction_num][0] = \"deposit\"\n",
        "        else:\n",
        "            # In case of unknown transaction types\n",
        "            print(f\"Warning: Unknown transaction type '{transaction_type}' for {usr} on {date}\")\n",
        "\n",
        "\n",
        "# Balance Calculation\n",
        "def calculate_balance(usr):\n",
        "  transactions = bank_ledger[usr]\n",
        "  balance = 0\n",
        "  for t in transactions.values():\n",
        "    if t[0] == \"deposit\":\n",
        "      balance += t[1]\n",
        "    elif t[0] == \"withdraw\":\n",
        "      balance -= t[1]\n",
        "  return balance\n",
        "\n",
        "# Check for correct date format\n",
        "def is_valid_date(date):\n",
        "    return len(date) == 10 and date[2] == \"/\" and date[5] == \"/\" and \\\n",
        "      date[:2].isdigit() and date[3:5].isdigit() and date[6:].isdigit()\n"
      ]
    },
    {
      "cell_type": "code",
      "source": [
        "calculate_balance(\"John\")"
      ],
      "metadata": {
        "colab": {
          "base_uri": "https://localhost:8080/"
        },
        "id": "3lhiCwpyJKAM",
        "outputId": "e5b01d73-4b1e-40e5-ad78-672a5b374730"
      },
      "execution_count": null,
      "outputs": [
        {
          "output_type": "stream",
          "name": "stdout",
          "text": [
            "{'1': ['deposit', 15000, '20/02/2025'], '2': ['deposit', 5000, '22/02/2025'], '3': ['withdraw', 2500, '23/02/2025'], '4': ['deposit', 250, '23/02/2025']}\n"
          ]
        },
        {
          "output_type": "execute_result",
          "data": {
            "text/plain": [
              "17750"
            ]
          },
          "metadata": {},
          "execution_count": 38
        }
      ]
    },
    {
      "cell_type": "code",
      "source": [
        "def user_interface():\n",
        "    print(\"Welcome to ABC Bank!\")\n",
        "\n",
        "    # Login\n",
        "    while True:\n",
        "        name = input(\"Enter your name: \")\n",
        "        if name not in bank_accounts[::2]:\n",
        "            print(\"Invalid name. Please try again.\")\n",
        "        else:\n",
        "            index = bank_accounts.index(name)\n",
        "            correct_password = bank_accounts[index+1]\n",
        "            password = input(\"Enter your password: \")\n",
        "            if password != correct_password:\n",
        "                print(\"Incorrect password. Please try again.\")\n",
        "            else:\n",
        "                break\n",
        "\n",
        "    print(f\"Hello {name}! Welcome to your account\")\n",
        "    while True:\n",
        "        print(\"\\nWhat would you like to do?\")\n",
        "        print(\"Options: deposit, withdraw, view ledger, exit\")\n",
        "        operation = input(\"Enter operation: \").lower()\n",
        "\n",
        "        if operation == \"deposit\":\n",
        "            amount = input(\"Enter amount to deposit: \")\n",
        "            if not amount.isdigit() or int(amount) <= 0:\n",
        "                print(\"Invalid amount. Please enter a positive number.\")\n",
        "                continue\n",
        "\n",
        "            amount = int(amount)\n",
        "            date = input(\"Enter today's date (DD/MM/YYYY): \")\n",
        "            if not is_valid_date(date):\n",
        "                print(\"Invalid date format. Please use DD/MM/YYYY.\")\n",
        "                continue\n",
        "\n",
        "            unique_date = date\n",
        "            while unique_date in bank_ledger[name]:\n",
        "                unique_date += \"b\"  # avoid duplicate keys\n",
        "\n",
        "            bank_ledger[name][unique_date] = [\"deposit\", amount]\n",
        "            balance = calculate_balance(name)\n",
        "            print(f\"You deposited {amount}. Your new balance is {balance}.\")\n",
        "\n",
        "        elif operation == \"withdraw\":\n",
        "            amount = input(\"Enter amount to withdraw: \")\n",
        "            if not amount.isdigit() or int(amount) <= 0:\n",
        "                print(\"Invalid amount. Please enter a positive number.\")\n",
        "                continue\n",
        "\n",
        "            amount = int(amount)\n",
        "            balance = calculate_balance(name)\n",
        "\n",
        "            if amount > balance:\n",
        "                print(\"You cannot withdraw more than your balance.\")\n",
        "            else:\n",
        "                date = input(\"Enter today's date (DD/MM/YYYY): \")\n",
        "                if not is_valid_date(date):\n",
        "                  print(\"Invalid date format. Please use DD/MM/YYYY.\")\n",
        "                  continue\n",
        "\n",
        "                unique_date = date\n",
        "                while unique_date in bank_ledger[name]:\n",
        "                  unique_date += \"b\"  # avoid duplicate keys\n",
        "\n",
        "                bank_ledger[name][unique_date] = [\"withdraw\", amount]\n",
        "                balance = calculate_balance(name)\n",
        "                print(f\"You withdrew {amount}. Your new balance is {balance}.\")\n",
        "\n",
        "        elif operation == \"view ledger\":\n",
        "            print(f\"\\n{ name }'s Ledger:\")\n",
        "            for date, trans in bank_ledger[name].items():\n",
        "                print(f\"On {date}: {trans[0]} {trans[1]} KES\")\n",
        "\n",
        "            balance = calculate_balance(name)\n",
        "            print(f\"\\nYour current balance is {balance} KES.\")\n",
        "\n",
        "        elif operation == \"exit\":\n",
        "            print(f\"Goodbye {name}! Thank you for banking with us.\")\n",
        "            break\n",
        "        else:\n",
        "            print(\"Invalid operation. Please try again.\")"
      ],
      "metadata": {
        "id": "hqX2_edFSt2n"
      },
      "execution_count": null,
      "outputs": []
    },
    {
      "cell_type": "code",
      "source": [
        "user_interface()"
      ],
      "metadata": {
        "colab": {
          "base_uri": "https://localhost:8080/"
        },
        "id": "Jso2dIzObL-n",
        "outputId": "294ab367-bb57-4877-8490-ec98c12ce24c"
      },
      "execution_count": null,
      "outputs": [
        {
          "output_type": "stream",
          "name": "stdout",
          "text": [
            "Welcome to ABC Bank!\n",
            "Enter your name: John\n",
            "Enter your password: Password!.\n",
            "Hello John! Welcome to your account\n",
            "\n",
            "What would you like to do?\n",
            "Options: deposit, withdraw, view ledger, exit\n",
            "Enter operation: view ledger\n",
            "\n",
            "John's Ledger:\n",
            "On 1: deposit 15000 KES\n",
            "On 2: deposit 5000 KES\n",
            "On 3: withdraw 2500 KES\n",
            "On 4: deposit 250 KES\n",
            "On 25/07/2025: withdraw 1000 KES\n",
            "On 26/07/2025: withdraw 1000 KES\n",
            "\n",
            "Your current balance is 15750 KES.\n",
            "\n",
            "What would you like to do?\n",
            "Options: deposit, withdraw, view ledger, exit\n",
            "Enter operation: exit\n",
            "Goodbye John! Thank you for banking with us.\n"
          ]
        }
      ]
    },
    {
      "cell_type": "code",
      "source": [
        "bank_ledger[\"Marrienne\"] = {}\n",
        "print(len(bank_ledger))"
      ],
      "metadata": {
        "id": "0yJO1EFcbPG_",
        "colab": {
          "base_uri": "https://localhost:8080/"
        },
        "outputId": "5fefb4ef-15ae-49ea-dabc-0ebca0b0798a"
      },
      "execution_count": null,
      "outputs": [
        {
          "output_type": "stream",
          "name": "stdout",
          "text": [
            "7\n"
          ]
        }
      ]
    },
    {
      "cell_type": "code",
      "source": [],
      "metadata": {
        "id": "JQGrmyXLCfA9"
      },
      "execution_count": null,
      "outputs": []
    }
  ]
}
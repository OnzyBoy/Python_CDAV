{
  "nbformat": 4,
  "nbformat_minor": 0,
  "metadata": {
    "colab": {
      "provenance": [],
      "authorship_tag": "ABX9TyOhOHrRwehxfX9UVyXDVujB",
      "include_colab_link": true
    },
    "kernelspec": {
      "name": "python3",
      "display_name": "Python 3"
    },
    "language_info": {
      "name": "python"
    }
  },
  "cells": [
    {
      "cell_type": "markdown",
      "metadata": {
        "id": "view-in-github",
        "colab_type": "text"
      },
      "source": [
        "<a href=\"https://colab.research.google.com/github/OnzyBoy/Python_CDAV/blob/main/6_CDAV_python_File_Handling.ipynb\" target=\"_parent\"><img src=\"https://colab.research.google.com/assets/colab-badge.svg\" alt=\"Open In Colab\"/></a>"
      ]
    },
    {
      "cell_type": "markdown",
      "source": [
        "# File Handling"
      ],
      "metadata": {
        "id": "ZCIM0zuuu8R_"
      }
    },
    {
      "cell_type": "markdown",
      "source": [
        "*   Read Files - 'r'\n",
        "*   Write Files - 'w'\n",
        "*   Append Files - 'a'\n",
        "*   Read and Write Files - 'r+'"
      ],
      "metadata": {
        "id": "toss26jIvAEx"
      }
    },
    {
      "cell_type": "code",
      "execution_count": null,
      "metadata": {
        "colab": {
          "base_uri": "https://localhost:8080/"
        },
        "id": "tSnuiOybsc0O",
        "outputId": "0cf937d8-8b48-4be8-8d0d-a13dcb451527"
      },
      "outputs": [
        {
          "output_type": "stream",
          "name": "stdout",
          "text": [
            "Welcome to Python Programming!\n",
            "This file contains multiple lines.\n",
            "You can read this file line by line.\n",
            "File handling is very useful.\n",
            "Let's learn by doing.\n"
          ]
        }
      ],
      "source": [
        "#Syntax\n",
        "# file = open(\"filename\", \"mode\")\n",
        "\n",
        "file = open(\"example.txt\",\"r\") #First, Open the File before doing anything\n",
        "content = file.read() #Fetches everything in the file\n",
        "# .readline() Feteches one line\n",
        "# .readlines() Feteches a list of all lines\n",
        "file.close() #Close the file\n",
        "print(content)"
      ]
    },
    {
      "cell_type": "code",
      "source": [
        "#Write\n",
        "file = open(\"output.txt\",\"w\")\n",
        "file.write(\"This is a new file. \\n\")\n",
        "file.write(\"Hello World \\n\")\n",
        "file.close()"
      ],
      "metadata": {
        "id": "KvTMNaXtv7hH"
      },
      "execution_count": null,
      "outputs": []
    },
    {
      "cell_type": "code",
      "source": [
        "#Append\n",
        "file = open(\"output.txt\", \"a\")\n",
        "file.write(\"Adding more content... \\n\")\n",
        "file.close()"
      ],
      "metadata": {
        "id": "HdfGVpp-yTWz"
      },
      "execution_count": null,
      "outputs": []
    },
    {
      "cell_type": "code",
      "source": [
        "#Another way of closing files\n",
        "with open(\"example.txt\",\"r\") as file:\n",
        "    all_lines = file.readlines()\n",
        "    all_lines.append(\"This is a new line \\n\")\n",
        "    print(all_lines)"
      ],
      "metadata": {
        "colab": {
          "base_uri": "https://localhost:8080/"
        },
        "id": "dcU3Mmz8zVGd",
        "outputId": "72989de0-3b94-41e1-cbd7-f2395af2365d"
      },
      "execution_count": null,
      "outputs": [
        {
          "output_type": "stream",
          "name": "stdout",
          "text": [
            "['Welcome to Python Programming!\\n', 'This file contains multiple lines.\\n', 'You can read this file line by line.\\n', 'File handling is very useful.\\n', \"Let's learn by doing.\", 'This is a new line \\n']\n"
          ]
        }
      ]
    },
    {
      "cell_type": "code",
      "source": [
        "#Copying a file\n",
        "#Yoou can open multiple files, separated by a ','\n",
        "with open(\"source.txt\",\"r\") as source, \\\n",
        "open (\"destination.txt\", \"w\") as destination:\n",
        "    for line in source:\n",
        "        destination.write(line)"
      ],
      "metadata": {
        "id": "rFlU3NaP0WQ4"
      },
      "execution_count": null,
      "outputs": []
    },
    {
      "cell_type": "code",
      "source": [
        "#File not found error\n",
        "try:\n",
        "  with open(\"missing.txt\",\"r\") as file:\n",
        "    content = file.read()\n",
        "except FileNotFoundError:\n",
        "  print(\"File not found\")\n",
        "else:\n",
        "  print(content)\n"
      ],
      "metadata": {
        "colab": {
          "base_uri": "https://localhost:8080/"
        },
        "id": "SGXNf9LP1r34",
        "outputId": "0945c0bc-6f29-4b1f-e27f-90a484fd53ce"
      },
      "execution_count": null,
      "outputs": [
        {
          "output_type": "stream",
          "name": "stdout",
          "text": [
            "File not found\n"
          ]
        }
      ]
    },
    {
      "cell_type": "markdown",
      "source": [
        "# CSV Library"
      ],
      "metadata": {
        "id": "z4Ze3rqD3Y_n"
      }
    },
    {
      "cell_type": "code",
      "source": [
        "# import pandas as pd\n",
        "# pd.read_csv(\"data.csv\")\n",
        "\n",
        "import csv as csv\n",
        "contents=[]\n",
        "with open(\"data.csv\",\"r\") as file:\n",
        "  reader = csv.reader(file)\n",
        "  contents = list(reader)\n",
        "  for row in reader:\n",
        "    print(row)\n",
        "\n",
        "print(contents)"
      ],
      "metadata": {
        "colab": {
          "base_uri": "https://localhost:8080/"
        },
        "id": "rdOSIcCT2WEQ",
        "outputId": "c8de9f5f-74c3-4093-9d7b-ebe1db3257e0"
      },
      "execution_count": null,
      "outputs": [
        {
          "output_type": "stream",
          "name": "stdout",
          "text": [
            "[['Name', 'Age', 'Grade'], ['Alice', '14', 'A'], ['Bob', '15', 'B'], ['Charlie', '13', 'A'], ['David', '14', 'C'], ['Eve', '15', 'A']]\n"
          ]
        }
      ]
    },
    {
      "cell_type": "code",
      "source": [],
      "metadata": {
        "id": "NIkKAC2IbPgI"
      },
      "execution_count": null,
      "outputs": []
    },
    {
      "cell_type": "code",
      "source": [
        "options=[\"Add Contact\", \"View Contact\", \"Search Contact\", \"Exit Program\"]\n",
        "while True:\n",
        "  try:\n",
        "      with open (\"contact.txt\",\"r\") as file:\n",
        "        lines = file.readlines()\n",
        "        print(\"you have\",len(lines)-1,\"contacts\")\n",
        "  except FileNotFoundError:\n",
        "      with open(\"contact.txt\",\"w\") as file:\n",
        "        file.write(\"Name \\t Email \\t Number \\n\")\n",
        "        print(\"You have 0 contacts\")\n",
        "\n",
        "  choice = int(input(\"Enter your choice:\\n 1.Add Contact \\\n",
        "  \\n 2.View Contact \\n 3.Search Contact \\n 4.Exit Program \\n\"))\n",
        "\n",
        "  if choice == 1:\n",
        "    print(\"Adding: \\n Contact name \\n Number and \\n Email\")\n",
        "    contact_name = input(\"Enter contact name: \")\n",
        "    contact_email = input(\"Enter contact email: \")\n",
        "    contact_number = \"+254\"+str(int(input(\"Enter contact number: \")))\n",
        "\n",
        "\n",
        "    with open(\"contact.txt\",\"a\") as file:\n",
        "      file.write(f\"{contact_name} \\t {contact_email} \\t {contact_number} \\n\")\n",
        "\n",
        "  elif choice == 2:\n",
        "    with open(\"contact.txt\",\"r\") as file:\n",
        "      print(file.read())\n",
        "\n",
        "  elif choice == 3:\n",
        "    contact_search = input(\"Enter contact name to search: \")\n",
        "    found = False\n",
        "    with open(\"contact.txt\",\"r\") as file:\n",
        "      for line in file:\n",
        "        if contact_search in line:\n",
        "          print(line)\n",
        "          found = True\n",
        "      if not found:\n",
        "        print(\"Contact not found\")\n",
        "\n",
        "  elif choice == 4:\n",
        "    print(\"Exiting Program\")\n",
        "\n",
        "    redo = False\n",
        "    do_redo = input(\"Do you want to run the program again? \\nyes / no \\n\")\n",
        "    do_redo = do_redo.lower()\n",
        "\n",
        "    if do_redo == \"yes\":\n",
        "      redo = True\n",
        "      continue\n",
        "    elif do_redo == \"no\":\n",
        "      redo = False\n",
        "      print(\"GoodBye!\")\n",
        "      break\n",
        "    else:\n",
        "      print(\"Enter a Yes / No\")\n",
        "\n",
        "  else:\n",
        "    print(\"Enter a choice between 1 and 4\")\n",
        "\n",
        "def check_validity(name,email,number):\n",
        "  name = name.capitalize()\n",
        "  if email.contains"
      ],
      "metadata": {
        "id": "QIO64E6N3lYB",
        "colab": {
          "base_uri": "https://localhost:8080/"
        },
        "outputId": "bfae325a-1bc9-4bdd-9f7e-1f2cdb21f93a"
      },
      "execution_count": null,
      "outputs": [
        {
          "output_type": "stream",
          "name": "stdout",
          "text": [
            "you have 3 contacts\n",
            "Enter your choice:\n",
            " 1.Add Contact   \n",
            " 2.View Contact \n",
            " 3.Search Contact \n",
            " 4.Exit Program \n",
            "4\n",
            "Exiting Program\n",
            "Do you want to run the program again? \n",
            "yes / no \n",
            "YES\n",
            "you have 3 contacts\n",
            "Enter your choice:\n",
            " 1.Add Contact   \n",
            " 2.View Contact \n",
            " 3.Search Contact \n",
            " 4.Exit Program \n",
            "4\n",
            "Exiting Program\n",
            "Do you want to run the program again? \n",
            "yes / no \n",
            "NO\n",
            "GoodBye!\n"
          ]
        }
      ]
    },
    {
      "cell_type": "code",
      "source": [],
      "metadata": {
        "id": "hXbw5bpr9PDO"
      },
      "execution_count": null,
      "outputs": []
    }
  ]
}
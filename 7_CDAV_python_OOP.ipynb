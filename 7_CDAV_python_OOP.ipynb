{
  "nbformat": 4,
  "nbformat_minor": 0,
  "metadata": {
    "colab": {
      "provenance": [],
      "authorship_tag": "ABX9TyPNUz//p0bjxEV+ImK2k3mS",
      "include_colab_link": true
    },
    "kernelspec": {
      "name": "python3",
      "display_name": "Python 3"
    },
    "language_info": {
      "name": "python"
    }
  },
  "cells": [
    {
      "cell_type": "markdown",
      "metadata": {
        "id": "view-in-github",
        "colab_type": "text"
      },
      "source": [
        "<a href=\"https://colab.research.google.com/github/OnzyBoy/Python_CDAV/blob/main/7_CDAV_python_OOP.ipynb\" target=\"_parent\"><img src=\"https://colab.research.google.com/assets/colab-badge.svg\" alt=\"Open In Colab\"/></a>"
      ]
    },
    {
      "cell_type": "markdown",
      "source": [
        "# Classes"
      ],
      "metadata": {
        "id": "owCwZtH765S3"
      }
    },
    {
      "cell_type": "markdown",
      "source": [
        "\n",
        "\n",
        "*   BluePrint for defining Objects (class instance)\n",
        "*   start with class keyword\n",
        "*   object - value created from a class\n",
        "*   attribute/property - variable in a class\n",
        "\n",
        "*   class body - properties and methods\n",
        "\n",
        "\n",
        "\n"
      ],
      "metadata": {
        "id": "LFhUVoKF6-DN"
      }
    },
    {
      "cell_type": "code",
      "execution_count": 4,
      "metadata": {
        "colab": {
          "base_uri": "https://localhost:8080/"
        },
        "id": "yiqF-myL5iMj",
        "outputId": "7f68c2d0-9b75-4f07-942b-6af77d2dab67"
      },
      "outputs": [
        {
          "output_type": "stream",
          "name": "stdout",
          "text": [
            "Red\n",
            "4\n",
            "Toyota\n"
          ]
        }
      ],
      "source": [
        "class Car:\n",
        "  # wheel_number = 4 #Property of class Car\n",
        "  # colour = \"red\"\n",
        "  # brand = \"Audi\"\n",
        "  def __init__(self, colour, wheel_number,brand): #Constructor\n",
        "    self.colour = colour\n",
        "    self.wheel_number = wheel_number\n",
        "    self.brand = brand\n",
        "\n",
        "\n",
        "tuktuk= Car(\"Red\", 4, \"Toyota\")\n",
        "print(tuktuk.colour)\n",
        "print(tuktuk.wheel_number)\n",
        "print(tuktuk.brand)"
      ]
    },
    {
      "cell_type": "code",
      "source": [
        "class Student:\n",
        "  def __init__(self, name, age, grade): #Constructor\n",
        "    self.name = name\n",
        "    self.age = age\n",
        "    self.grade = grade\n",
        "\n",
        "  def greet(self):\n",
        "    print(f\"Hello {self.name}. You are {self.age} years old\")\n",
        "\n",
        "  def is_passed(self,mark):\n",
        "    if self.grade > 79:\n",
        "      mark = \"A\"\n",
        "    elif self.grade > 69:\n",
        "      mark = \"B\"\n",
        "    elif self.grade > 59:\n",
        "      mark = \"C\"\n",
        "    elif self.grade > 49:\n",
        "      mark = \"D\"\n",
        "    else:\n",
        "      mark = \"F\"\n",
        "    return mark\n",
        "\n",
        "#Creating Object(s) of class Student\n",
        "std1 = Student(\"Mary\", 19, 75)\n",
        "std2 = Student(\"Charlie\", 20, 74)\n",
        "std3 = Student(\"Peter\", 21, 85)\n",
        "\n",
        "# print(std1.name, std1.age, std1.grade)\n",
        "std1.greet()\n",
        "print(f\"Grade: {std1.is_passed(std1.grade)}\")\n",
        "\n",
        "# print(std2.name, std2.age, std2.grade)\n",
        "std2.greet()\n",
        "print(f\"Grade: {std2.is_passed(std2.grade)}\")\n",
        "\n",
        "# print(std3.name, std3.age, std3.grade)\n",
        "std3.greet()\n",
        "print(f\"Grade: {std3.is_passed(std3.grade)}\")"
      ],
      "metadata": {
        "colab": {
          "base_uri": "https://localhost:8080/"
        },
        "id": "ers-mwhF888x",
        "outputId": "ea754b52-0375-42e4-daad-5045333cd52a"
      },
      "execution_count": 15,
      "outputs": [
        {
          "output_type": "stream",
          "name": "stdout",
          "text": [
            "Hello Mary. You are 19 years old\n",
            "Grade: B\n",
            "Hello Charlie. You are 20 years old\n",
            "Grade: B\n",
            "Hello Peter. You are 21 years old\n",
            "Grade: A\n"
          ]
        }
      ]
    },
    {
      "cell_type": "code",
      "source": [],
      "metadata": {
        "id": "C04cekz9APvw"
      },
      "execution_count": null,
      "outputs": []
    }
  ]
}
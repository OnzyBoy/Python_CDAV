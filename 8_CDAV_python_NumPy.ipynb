{
  "nbformat": 4,
  "nbformat_minor": 0,
  "metadata": {
    "colab": {
      "provenance": [],
      "authorship_tag": "ABX9TyPNg0Z2ek3/du8TvTDSJJ7B",
      "include_colab_link": true
    },
    "kernelspec": {
      "name": "python3",
      "display_name": "Python 3"
    },
    "language_info": {
      "name": "python"
    }
  },
  "cells": [
    {
      "cell_type": "markdown",
      "metadata": {
        "id": "view-in-github",
        "colab_type": "text"
      },
      "source": [
        "<a href=\"https://colab.research.google.com/github/OnzyBoy/Python_CDAV/blob/main/8_CDAV_python_NumPy.ipynb\" target=\"_parent\"><img src=\"https://colab.research.google.com/assets/colab-badge.svg\" alt=\"Open In Colab\"/></a>"
      ]
    },
    {
      "cell_type": "markdown",
      "source": [
        "# NumPy - Numerical Python"
      ],
      "metadata": {
        "id": "6uci6WE-vG4P"
      }
    },
    {
      "cell_type": "markdown",
      "source": [
        "*   Perform Numerical Operations on a subset oof data\n",
        "*   List item\n",
        "\n"
      ],
      "metadata": {
        "id": "3iT_XZ-EvS3Q"
      }
    },
    {
      "cell_type": "code",
      "execution_count": 1,
      "metadata": {
        "colab": {
          "base_uri": "https://localhost:8080/"
        },
        "id": "MNwS4HRUu62r",
        "outputId": "3375f223-aa2f-40c6-d6b1-6d3441157500"
      },
      "outputs": [
        {
          "output_type": "stream",
          "name": "stdout",
          "text": [
            "2.0.2\n"
          ]
        }
      ],
      "source": [
        "import numpy as np #Aliasing w/ 'as' keyword\n",
        "\n",
        "print(np.__version__)"
      ]
    },
    {
      "cell_type": "code",
      "source": [
        "#Nd Arrays\n",
        "# To know dimensions, chack the opening and closing brackets\n",
        "arr = np.array(20) # 0 dimensions basically a list\n",
        "\n",
        "arr = np.array([1,2,3,4,5]) # 1 dimension\n",
        "\n",
        "arr = np.array([[1,2,3],[4,5,6]]) # 2 dimensions\n",
        "\n",
        "arr = np.array([[[1,2,3],[4,5,6]],[[7,8,9],[10,11,12]]]) # 3 dimensions\n",
        "arr = np.array([[[1,2,3], [40,50,60]]]) # 3 dimensions\n",
        "\n",
        "arr = np.array([[[[20,30, 40], [10,15,54], [60,70,80]]]]) #4 dimensions\n",
        "print(arr.shape) #  returns a tuple with each index having the number of corresponding elements\n",
        "print(f\"Dimensions: {arr.ndim}\") # Gives Dimension of an array"
      ],
      "metadata": {
        "colab": {
          "base_uri": "https://localhost:8080/"
        },
        "id": "sWs75xhAwrj4",
        "outputId": "0c4a1c51-ef5d-499f-f885-f5baceaabd04"
      },
      "execution_count": 26,
      "outputs": [
        {
          "output_type": "stream",
          "name": "stdout",
          "text": [
            "Dimensions: 2\n",
            "(1, 1, 3, 3)\n"
          ]
        }
      ]
    },
    {
      "cell_type": "code",
      "source": [
        "# 1D Array w/ 4 items\n",
        "ar = np.array([1,2,3,4])\n",
        "\n",
        "# 2D Array w/ 3 items in the 1st dimension and 4 items in the second one\n",
        "ar = np.array([[1,2,3,4],[1,2,3,4],[10,20,30,40]])\n",
        "\n",
        "# 3D array w/ 2 items in the first, 2 in the second and 2 in the 3rd one\n",
        "ar = np.array([[[2,4],[10,12],[15,17]]])\n",
        "\n",
        "# 5d Array w/ 2 items in the first, 1 item in the second, 2 items in the third, 1 item in the 4th and 3 items in the 5th (2,1,2,1,3)\n",
        "ar = np.array([[[[[1,2,3]],[[4,5,6]]]],[[[[7,8,9]],[[10,11,12]]]]])\n",
        "\n",
        "\n",
        "print(f\"Shape: {ar.shape}\")\n",
        "print(f\"Dimensions: {ar.ndim}\")\n"
      ],
      "metadata": {
        "colab": {
          "base_uri": "https://localhost:8080/"
        },
        "id": "SlvULGzW1RNL",
        "outputId": "fb633191-11e3-4d16-9cd7-7d7d1129a032"
      },
      "execution_count": 75,
      "outputs": [
        {
          "output_type": "stream",
          "name": "stdout",
          "text": [
            "Shape: (2, 1, 2, 1, 3)\n",
            "Dimensions: 5\n"
          ]
        }
      ]
    },
    {
      "cell_type": "code",
      "source": [
        "#Range of an arrays\n",
        "np.arange(0,10,2) # (start, stop, step)"
      ],
      "metadata": {
        "colab": {
          "base_uri": "https://localhost:8080/"
        },
        "id": "lbLaBr6w9uEt",
        "outputId": "2e061e6c-8173-4b75-e98e-8410132606ef"
      },
      "execution_count": 76,
      "outputs": [
        {
          "output_type": "execute_result",
          "data": {
            "text/plain": [
              "array([0, 2, 4, 6, 8])"
            ]
          },
          "metadata": {},
          "execution_count": 76
        }
      ]
    },
    {
      "cell_type": "code",
      "source": [
        "np.zeros([2,2]) # (shape)"
      ],
      "metadata": {
        "colab": {
          "base_uri": "https://localhost:8080/"
        },
        "id": "rRCAUVEnZrTE",
        "outputId": "faca3112-e589-4926-b1e6-df88527bbe1a"
      },
      "execution_count": 78,
      "outputs": [
        {
          "output_type": "execute_result",
          "data": {
            "text/plain": [
              "array([[0., 0.],\n",
              "       [0., 0.]])"
            ]
          },
          "metadata": {},
          "execution_count": 78
        }
      ]
    },
    {
      "cell_type": "code",
      "source": [
        "#To change the shape of an array\n",
        "arr_1 = np.array([2,1])\n",
        "arr_1.ndim\n",
        "\n",
        "arr_1 = arr_1.reshape(1,2)\n",
        "arr_1.ndim\n",
        "\n",
        "#Converting mulitple dimensions to become 1 dimension - 'Array Flattening'\n",
        "arr_1 = arr_1.reshape(-1)\n",
        "arr_1.ndim"
      ],
      "metadata": {
        "colab": {
          "base_uri": "https://localhost:8080/"
        },
        "id": "qGhEIeEDZ2I-",
        "outputId": "28bbe028-b651-4164-a563-8f1b6888345f"
      },
      "execution_count": 81,
      "outputs": [
        {
          "output_type": "execute_result",
          "data": {
            "text/plain": [
              "1"
            ]
          },
          "metadata": {},
          "execution_count": 81
        }
      ]
    },
    {
      "cell_type": "code",
      "source": [
        "#Create a 10D array with values between 1 and 10000\n",
        "arr = np.arange(1,10001)\n",
        "arr_10 = arr.reshape(10,10,10,10,1,1,1,1,1,1)\n",
        "arr_10.ndim\n"
      ],
      "metadata": {
        "colab": {
          "base_uri": "https://localhost:8080/"
        },
        "id": "9fyVy4MEaWE4",
        "outputId": "7b166cc8-3756-490a-f77a-42ab79b9bec8"
      },
      "execution_count": 91,
      "outputs": [
        {
          "output_type": "execute_result",
          "data": {
            "text/plain": [
              "10"
            ]
          },
          "metadata": {},
          "execution_count": 91
        }
      ]
    },
    {
      "cell_type": "code",
      "source": [
        "arr = np.random.rand(2,2)\n",
        "print(arr)"
      ],
      "metadata": {
        "colab": {
          "base_uri": "https://localhost:8080/"
        },
        "id": "tYdPjawIbywA",
        "outputId": "d4a5b0ee-958f-4797-9f50-29759acdcb4f"
      },
      "execution_count": 93,
      "outputs": [
        {
          "output_type": "stream",
          "name": "stdout",
          "text": [
            "[[0.89558085 0.98372604]\n",
            " [0.58872972 0.40056856]]\n"
          ]
        }
      ]
    },
    {
      "cell_type": "code",
      "source": [],
      "metadata": {
        "id": "4wrsS1i9fbpC"
      },
      "execution_count": null,
      "outputs": []
    }
  ]
}
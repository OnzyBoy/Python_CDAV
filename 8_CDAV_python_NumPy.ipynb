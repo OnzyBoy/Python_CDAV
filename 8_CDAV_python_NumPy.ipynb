{
  "cells": [
    {
      "cell_type": "markdown",
      "metadata": {
        "id": "view-in-github",
        "colab_type": "text"
      },
      "source": [
        "<a href=\"https://colab.research.google.com/github/OnzyBoy/Python_CDAV/blob/main/8_CDAV_python_NumPy.ipynb\" target=\"_parent\"><img src=\"https://colab.research.google.com/assets/colab-badge.svg\" alt=\"Open In Colab\"/></a>"
      ]
    },
    {
      "cell_type": "markdown",
      "metadata": {
        "id": "6uci6WE-vG4P"
      },
      "source": [
        "# NumPy - Numerical Python"
      ]
    },
    {
      "cell_type": "markdown",
      "metadata": {
        "id": "3iT_XZ-EvS3Q"
      },
      "source": [
        "*   Perform Numerical Operations on a subset oof data\n",
        "*   List item\n",
        "\n"
      ]
    },
    {
      "cell_type": "code",
      "execution_count": null,
      "metadata": {
        "colab": {
          "base_uri": "https://localhost:8080/"
        },
        "id": "MNwS4HRUu62r",
        "outputId": "67fba633-0167-4447-eaa7-b4de44a58bde"
      },
      "outputs": [
        {
          "name": "stdout",
          "output_type": "stream",
          "text": [
            "2.0.2\n"
          ]
        }
      ],
      "source": [
        "import numpy as np #Aliasing w/ 'as' keyword\n",
        "\n",
        "print(np.__version__)"
      ]
    },
    {
      "cell_type": "code",
      "execution_count": null,
      "metadata": {
        "colab": {
          "base_uri": "https://localhost:8080/"
        },
        "id": "sWs75xhAwrj4",
        "outputId": "0c4a1c51-ef5d-499f-f885-f5baceaabd04"
      },
      "outputs": [
        {
          "name": "stdout",
          "output_type": "stream",
          "text": [
            "Dimensions: 2\n",
            "(1, 1, 3, 3)\n"
          ]
        }
      ],
      "source": [
        "#Nd Arrays\n",
        "# To know dimensions, chack the opening and closing brackets\n",
        "arr = np.array(20) # 0 dimensions basically a list\n",
        "\n",
        "arr = np.array([1,2,3,4,5]) # 1 dimension\n",
        "\n",
        "arr = np.array([[1,2,3],[4,5,6]]) # 2 dimensions\n",
        "\n",
        "arr = np.array([[[1,2,3],[4,5,6]],[[7,8,9],[10,11,12]]]) # 3 dimensions\n",
        "arr = np.array([[[1,2,3], [40,50,60]]]) # 3 dimensions\n",
        "\n",
        "arr = np.array([[[[20,30, 40], [10,15,54], [60,70,80]]]]) #4 dimensions\n",
        "print(arr.shape) #  returns a tuple with each index having the number of corresponding elements\n",
        "print(f\"Dimensions: {arr.ndim}\") # Gives Dimension of an array"
      ]
    },
    {
      "cell_type": "code",
      "execution_count": null,
      "metadata": {
        "colab": {
          "base_uri": "https://localhost:8080/"
        },
        "id": "SlvULGzW1RNL",
        "outputId": "fb633191-11e3-4d16-9cd7-7d7d1129a032"
      },
      "outputs": [
        {
          "name": "stdout",
          "output_type": "stream",
          "text": [
            "Shape: (2, 1, 2, 1, 3)\n",
            "Dimensions: 5\n"
          ]
        }
      ],
      "source": [
        "# 1D Array w/ 4 items\n",
        "ar = np.array([1,2,3,4])\n",
        "\n",
        "# 2D Array w/ 3 items in the 1st dimension and 4 items in the second one\n",
        "ar = np.array([[1,2,3,4],[1,2,3,4],[10,20,30,40]])\n",
        "\n",
        "# 3D array w/ 2 items in the first, 2 in the second and 2 in the 3rd one\n",
        "ar = np.array([[[2,4],[10,12],[15,17]]])\n",
        "\n",
        "# 5d Array w/ 2 items in the first, 1 item in the second, 2 items in the third, 1 item in the 4th and 3 items in the 5th (2,1,2,1,3)\n",
        "ar = np.array([[[[[1,2,3]],[[4,5,6]]]],[[[[7,8,9]],[[10,11,12]]]]])\n",
        "\n",
        "\n",
        "print(f\"Shape: {ar.shape}\")\n",
        "print(f\"Dimensions: {ar.ndim}\")\n"
      ]
    },
    {
      "cell_type": "code",
      "execution_count": null,
      "metadata": {
        "colab": {
          "base_uri": "https://localhost:8080/"
        },
        "id": "lbLaBr6w9uEt",
        "outputId": "2e061e6c-8173-4b75-e98e-8410132606ef"
      },
      "outputs": [
        {
          "data": {
            "text/plain": [
              "array([0, 2, 4, 6, 8])"
            ]
          },
          "execution_count": 76,
          "metadata": {},
          "output_type": "execute_result"
        }
      ],
      "source": [
        "#Range of an arrays\n",
        "np.arange(0,10,2) # (start, stop, step)"
      ]
    },
    {
      "cell_type": "code",
      "execution_count": null,
      "metadata": {
        "colab": {
          "base_uri": "https://localhost:8080/"
        },
        "id": "rRCAUVEnZrTE",
        "outputId": "faca3112-e589-4926-b1e6-df88527bbe1a"
      },
      "outputs": [
        {
          "data": {
            "text/plain": [
              "array([[0., 0.],\n",
              "       [0., 0.]])"
            ]
          },
          "execution_count": 78,
          "metadata": {},
          "output_type": "execute_result"
        }
      ],
      "source": [
        "np.zeros([2,2]) # (shape)"
      ]
    },
    {
      "cell_type": "code",
      "execution_count": null,
      "metadata": {
        "colab": {
          "base_uri": "https://localhost:8080/"
        },
        "id": "qGhEIeEDZ2I-",
        "outputId": "28bbe028-b651-4164-a563-8f1b6888345f"
      },
      "outputs": [
        {
          "data": {
            "text/plain": [
              "1"
            ]
          },
          "execution_count": 81,
          "metadata": {},
          "output_type": "execute_result"
        }
      ],
      "source": [
        "#To change the shape of an array\n",
        "arr_1 = np.array([2,1])\n",
        "arr_1.ndim\n",
        "\n",
        "arr_1 = arr_1.reshape(1,2)\n",
        "arr_1.ndim\n",
        "\n",
        "#Converting mulitple dimensions to become 1 dimension - 'Array Flattening'\n",
        "arr_1 = arr_1.reshape(-1)\n",
        "arr_1.ndim"
      ]
    },
    {
      "cell_type": "code",
      "execution_count": null,
      "metadata": {
        "colab": {
          "base_uri": "https://localhost:8080/"
        },
        "id": "9fyVy4MEaWE4",
        "outputId": "7b166cc8-3756-490a-f77a-42ab79b9bec8"
      },
      "outputs": [
        {
          "data": {
            "text/plain": [
              "10"
            ]
          },
          "execution_count": 91,
          "metadata": {},
          "output_type": "execute_result"
        }
      ],
      "source": [
        "#Create a 10D array with values between 1 and 10000\n",
        "arr = np.arange(1,10001)\n",
        "arr_10 = arr.reshape(10,10,10,10,1,1,1,1,1,1)\n",
        "arr_10.ndim\n"
      ]
    },
    {
      "cell_type": "code",
      "execution_count": null,
      "metadata": {
        "colab": {
          "base_uri": "https://localhost:8080/"
        },
        "id": "tYdPjawIbywA",
        "outputId": "d4a5b0ee-958f-4797-9f50-29759acdcb4f"
      },
      "outputs": [
        {
          "name": "stdout",
          "output_type": "stream",
          "text": [
            "[[0.89558085 0.98372604]\n",
            " [0.58872972 0.40056856]]\n"
          ]
        }
      ],
      "source": [
        "arr = np.random.rand(2,2)\n",
        "print(arr)"
      ]
    },
    {
      "cell_type": "code",
      "execution_count": null,
      "metadata": {
        "colab": {
          "base_uri": "https://localhost:8080/"
        },
        "id": "4wrsS1i9fbpC",
        "outputId": "2bb3ec8f-17c6-4938-e110-37353946132e"
      },
      "outputs": [
        {
          "name": "stdout",
          "output_type": "stream",
          "text": [
            "This is a 3D array.\n",
            "Shape: (1, 2, 3)\n",
            "Data type: int64\n",
            "Flattened array: [2 3 4 5 6 8]\n",
            "6\n"
          ]
        }
      ],
      "source": [
        "# Write a function describe_array(arr) that: | # Prints the type of array (1D, 2D, 3D) | # Prints its shape, and dtype | # Flattens the array and returns it\n",
        "import numpy as np\n",
        "\n",
        "def describe_array(arr):\n",
        "    # Print array type\n",
        "    print(f\"This is a {arr.ndim}D array.\")\n",
        "\n",
        "    # Print shape and dtype\n",
        "    print(\"Shape:\", arr.shape)\n",
        "    print(\"Data type:\", arr.dtype)\n",
        "\n",
        "    # Flatten - To 1D\n",
        "    flat = arr.flatten()\n",
        "    return flat\n",
        "\n",
        "arr = np.array([[[2,3,4],[5,6,8]]])\n",
        "flat_array = describe_array(arr)\n",
        "print(\"Flattened array:\", flat_array)\n",
        "print(arr.size)"
      ]
    },
    {
      "cell_type": "markdown",
      "metadata": {
        "id": "bW8zTr-l_ezW"
      },
      "source": [
        "# Accessing Arrays"
      ]
    },
    {
      "cell_type": "code",
      "execution_count": null,
      "metadata": {
        "colab": {
          "base_uri": "https://localhost:8080/"
        },
        "id": "yy9x3zGW4aUb",
        "outputId": "5bc4292b-1848-4290-959c-9a51a432494e"
      },
      "outputs": [
        {
          "data": {
            "text/plain": [
              "(3, 2, 2)"
            ]
          },
          "execution_count": 37,
          "metadata": {},
          "output_type": "execute_result"
        }
      ],
      "source": [
        "#Accesing 1d arrays, like a list\n",
        "arr_1 = np.array([1,2,4,4,5,7])\n",
        "arr_1[5]\n",
        "\n",
        "#Accessing 2D arrays\n",
        "arr_2 = np.array([[1,2],[3,4]])\n",
        "arr_2[0,0] #1\n",
        "arr_2[1,0] #3\n",
        "\n",
        "#Accessing 3d Arrays\n",
        "arr_3 = np.array([[[1,2],[3,4]], [[5,6], [7,8]], [[9,10], [11,12]]] )\n",
        "arr_3[1,0,1]#6\n",
        "arr_3.shape"
      ]
    },
    {
      "cell_type": "code",
      "execution_count": null,
      "metadata": {
        "colab": {
          "base_uri": "https://localhost:8080/"
        },
        "id": "slU_G_MM_q4Y",
        "outputId": "ab1f6f4a-d8af-4d01-916f-daee7cf4fedf"
      },
      "outputs": [
        {
          "data": {
            "text/plain": [
              "array([1, 3])"
            ]
          },
          "execution_count": 29,
          "metadata": {},
          "output_type": "execute_result"
        }
      ],
      "source": [
        "#Accessing Mulitiple Values via slicing\n",
        "#1d Arrays\n",
        "arr_1 = np.array([1,2,4,4,5,7])\n",
        "arr_1[0:2] # 1 and 2\n",
        "\n",
        "#2d arrays\n",
        "arr_2 = np.array([[1,2],[3,4]])\n",
        "arr_2[0,0:2] # 1 and 2\n",
        "arr_2[0:,0] # 1 and 3\n",
        "\n",
        "# 3d arrays\n",
        "arr_3 = np.array([[[1,2],[3,4]], [[5,6], [7,8]], [[9,10], [11,12]]] )"
      ]
    },
    {
      "cell_type": "code",
      "execution_count": null,
      "metadata": {
        "colab": {
          "base_uri": "https://localhost:8080/"
        },
        "id": "e4PyrZA7BzVN",
        "outputId": "792a108a-8f14-4645-c626-5b7d6d788091"
      },
      "outputs": [
        {
          "output_type": "execute_result",
          "data": {
            "text/plain": [
              "array([5, 7])"
            ]
          },
          "metadata": {},
          "execution_count": 43
        }
      ],
      "source": [
        "arr_4 = np.array([[1,2],[3,4], [5,6], [7,8]])\n",
        "arr_4[0:2] #first 2 lists\n",
        "arr_4[0:2,0] #1 and 3\n",
        "arr_4[3,1] #8\n",
        "arr_4[2:,0] #5 and 7"
      ]
    },
    {
      "cell_type": "code",
      "execution_count": null,
      "metadata": {
        "id": "kl7tLFMWC6pe",
        "colab": {
          "base_uri": "https://localhost:8080/"
        },
        "outputId": "ea944207-376b-4ee2-cb7f-7a44cef1a4e2"
      },
      "outputs": [
        {
          "output_type": "execute_result",
          "data": {
            "text/plain": [
              "array([10, 40, 70, 10, 30, 10])"
            ]
          },
          "metadata": {},
          "execution_count": 155
        }
      ],
      "source": [
        "# Use the array below to extract the values shown:\n",
        "# [40,20,40,10] | [20,70,10] | [10,30,10] | [70,70]\n",
        "\n",
        "arr_5 = np.array([[[40,20,50],[20,40,60],[40,30,20]],[[10,40,70],[10,30,10],[20,50,70]]])\n",
        "arr_5.shape\n",
        "\n",
        "arr_1 = arr_5[0:1,0:3,0]#40 20 40\n",
        "arr_2 = arr_5[1,0,0] # 10\n",
        "new_arr = arr_1, arr_2\n",
        "\n",
        "arr_3 = arr_5[0,1,0] # 20\n",
        "arr_4 = arr_5[1,0:2,2] # 70,10\n",
        "new_arr = arr_3,arr_4\n",
        "# print(new_arr)\n",
        "\n",
        "\n",
        "arr_5[0:,0:,0].flatten()[:4] #40,20,40\n",
        "arr_5[0:,0:,2].flatten()[2:5] #20,70,10\n",
        "arr_5[1,1] # 10,30,10\n",
        "arr_5[1,0::2,2] #70,70"
      ]
    },
    {
      "cell_type": "code",
      "source": [],
      "metadata": {
        "colab": {
          "base_uri": "https://localhost:8080/"
        },
        "id": "_HwSy0etQ8te",
        "outputId": "14bd6e2e-d538-4490-fbcd-d8bc13083960"
      },
      "execution_count": null,
      "outputs": [
        {
          "output_type": "execute_result",
          "data": {
            "text/plain": [
              "array([40, 20, 40, 10])"
            ]
          },
          "metadata": {},
          "execution_count": 117
        }
      ]
    },
    {
      "cell_type": "markdown",
      "source": [
        "# Index Positioning"
      ],
      "metadata": {
        "id": "J40jI0oZZE0W"
      }
    },
    {
      "cell_type": "markdown",
      "source": [
        ".where() gets the index position of a given value in an array"
      ],
      "metadata": {
        "id": "8bpl2nbBZ63A"
      }
    },
    {
      "cell_type": "code",
      "source": [
        "arr_4 = np.array([[1,2],[3,4],[5,6],[7,8]])\n",
        "np.where(arr_4==6)\n",
        "arr_4[2,1] #6\n",
        "\n",
        "arr_5 = np.array([[[40,20,50],[20,40,60],[40,30,20]],[[10,40,70],[10,30,10],[20,50,70]]])\n",
        "np.where(arr_5 == 40)\n",
        "arr_5[1,0,1] #40"
      ],
      "metadata": {
        "colab": {
          "base_uri": "https://localhost:8080/"
        },
        "id": "mYM9DHDVZK8s",
        "outputId": "c1087972-ac40-4491-d86d-fa2bc438843f"
      },
      "execution_count": null,
      "outputs": [
        {
          "output_type": "execute_result",
          "data": {
            "text/plain": [
              "(array([0, 0, 0, 1]), array([0, 1, 2, 0]), array([0, 1, 0, 1]))"
            ]
          },
          "metadata": {},
          "execution_count": 159
        }
      ]
    },
    {
      "cell_type": "markdown",
      "source": [
        "# Filtering"
      ],
      "metadata": {
        "id": "60l1rXevbPVb"
      }
    },
    {
      "cell_type": "code",
      "source": [
        "arr_4 = np.arange(0,20) #0-19\n",
        "arr_even = arr_4[arr_4%2==0] #Even numbers\n",
        "\n",
        "arr_even[arr_even>15]\n"
      ],
      "metadata": {
        "colab": {
          "base_uri": "https://localhost:8080/"
        },
        "id": "w_408jadbkm8",
        "outputId": "daf5b380-fe8c-447d-ad8e-84be5b3daf72"
      },
      "execution_count": null,
      "outputs": [
        {
          "output_type": "execute_result",
          "data": {
            "text/plain": [
              "array([16, 18])"
            ]
          },
          "metadata": {},
          "execution_count": 166
        }
      ]
    },
    {
      "cell_type": "code",
      "source": [
        "#Casting from integer to string\n",
        "arr_4.astype(\"str_\")\n",
        "\n",
        "arr_7 = np.array([\"soap\", 40, \"milk\", 50])\n",
        "arr_7.dtype"
      ],
      "metadata": {
        "colab": {
          "base_uri": "https://localhost:8080/"
        },
        "id": "gUgUc1n8dZus",
        "outputId": "23db3c54-9f9f-4704-c91c-76df30fdc256"
      },
      "execution_count": null,
      "outputs": [
        {
          "output_type": "execute_result",
          "data": {
            "text/plain": [
              "dtype('<U21')"
            ]
          },
          "metadata": {},
          "execution_count": 173
        }
      ]
    },
    {
      "cell_type": "markdown",
      "source": [
        "# Operations"
      ],
      "metadata": {
        "id": "8jb-_G6LbWg3"
      }
    },
    {
      "cell_type": "code",
      "source": [
        "arr_1 = np.array([2,2])\n",
        "arr_3 = np.array([3,4])\n",
        "\n",
        "print(arr_1 + arr_3) # [5,6]\n",
        "print(arr_1 - arr_3) # [-1,-2]\n",
        "print(arr_1 * arr_3) # [6,8]\n",
        "print(arr_1 / arr_3)\n",
        "\n",
        "print(f\"Sum: {sum(arr_1)}\") # 4\n",
        "print(f\"Minimum: {min(arr_3)} \") # 3\n"
      ],
      "metadata": {
        "colab": {
          "base_uri": "https://localhost:8080/"
        },
        "id": "Y5u8mnKne7KO",
        "outputId": "d3404e29-f8a9-4d6c-8bf1-be3ffda58279"
      },
      "execution_count": null,
      "outputs": [
        {
          "output_type": "stream",
          "name": "stdout",
          "text": [
            "[5 6]\n",
            "[-1 -2]\n",
            "[6 8]\n",
            "[0.66666667 0.5       ]\n",
            "Sum: 4\n",
            "Minimum 3 \n"
          ]
        }
      ]
    },
    {
      "cell_type": "code",
      "source": [
        "#Joining arrays with np.concatenate\n",
        "np.concatenate((arr_1,arr_3))\n",
        "\n",
        "arr_c = np.array([[1,2], [3,4]])\n",
        "arr_d = np.array([[5,6], [7,8]])\n",
        "np.concatenate((arr_c,arr_d), axis=1) #axis 0 - columns(default); axis1 - rows"
      ],
      "metadata": {
        "colab": {
          "base_uri": "https://localhost:8080/"
        },
        "id": "5jQM6lPWfOpn",
        "outputId": "d3aed66b-92f9-4bf0-e14d-356e7deb33d6"
      },
      "execution_count": null,
      "outputs": [
        {
          "output_type": "execute_result",
          "data": {
            "text/plain": [
              "array([[1, 2, 5, 6],\n",
              "       [3, 4, 7, 8]])"
            ]
          },
          "metadata": {},
          "execution_count": 185
        }
      ]
    },
    {
      "cell_type": "code",
      "source": [
        "#Copying - don't affect original\n",
        "arr_6 = np.arange(0,20)\n",
        "arr_6_copy = arr_6.copy()\n",
        "arr_6[0] = 100\n",
        "arr_6_copy\n",
        "arr_6"
      ],
      "metadata": {
        "colab": {
          "base_uri": "https://localhost:8080/"
        },
        "id": "5ByI2lSpgUwy",
        "outputId": "db4b9fcd-ef74-4d8a-d182-c98dfb2506a0"
      },
      "execution_count": null,
      "outputs": [
        {
          "output_type": "execute_result",
          "data": {
            "text/plain": [
              "array([100,   1,   2,   3,   4,   5,   6,   7,   8,   9,  10,  11,  12,\n",
              "        13,  14,  15,  16,  17,  18,  19])"
            ]
          },
          "metadata": {},
          "execution_count": 188
        }
      ]
    },
    {
      "cell_type": "code",
      "source": [
        "#Replication - affect original array\n",
        "arr_6_view = arr_6.view()\n",
        "arr_6[0] = 500\n",
        "arr_6_view\n",
        "\n",
        "print(arr_6_copy.base) #None - not dependent on an array\n",
        "print(arr_6_view.base) #arr_6 - dependent on an array"
      ],
      "metadata": {
        "colab": {
          "base_uri": "https://localhost:8080/"
        },
        "id": "4CSLGWn5iEG1",
        "outputId": "03c37619-de29-4508-ceac-2c10a0b8db44"
      },
      "execution_count": null,
      "outputs": [
        {
          "output_type": "stream",
          "name": "stdout",
          "text": [
            "None\n",
            "[500   1   2   3   4   5   6   7   8   9  10  11  12  13  14  15  16  17\n",
            "  18  19]\n"
          ]
        }
      ]
    },
    {
      "cell_type": "code",
      "source": [],
      "metadata": {
        "id": "bkNlPqD3h0ro"
      },
      "execution_count": null,
      "outputs": []
    }
  ],
  "metadata": {
    "colab": {
      "provenance": [],
      "authorship_tag": "ABX9TyN8lxOAXg10PfrDbhz46Ang",
      "include_colab_link": true
    },
    "kernelspec": {
      "display_name": "Python 3",
      "name": "python3"
    },
    "language_info": {
      "name": "python"
    }
  },
  "nbformat": 4,
  "nbformat_minor": 0
}